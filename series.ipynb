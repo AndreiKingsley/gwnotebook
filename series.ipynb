{
 "cells": [
  {
   "cell_type": "code",
   "execution_count": 1,
   "metadata": {
    "datalore": {
     "hide_input_from_viewers": false,
     "hide_output_from_viewers": false,
     "node_id": "kW5gBho4CSvgJY4hjCFxFS",
     "report_properties": {},
     "type": "CODE"
    }
   },
   "outputs": [
    {
     "data": {
      "text/html": "   <div id=\"QqgP3l\"></div>\n   <script type=\"text/javascript\" data-lets-plot-script=\"library\">\n       if(!window.letsPlotCallQueue) {\n           window.letsPlotCallQueue = [];\n       }; \n       window.letsPlotCall = function(f) {\n           window.letsPlotCallQueue.push(f);\n       };\n       (function() {\n           var script = document.createElement(\"script\");\n           script.type = \"text/javascript\";\n           script.src = \"https://cdn.jsdelivr.net/gh/JetBrains/lets-plot@v2.5.0/js-package/distr/lets-plot.min.js\";\n           script.onload = function() {\n               window.letsPlotCall = function(f) {f();};\n               window.letsPlotCallQueue.forEach(function(f) {f();});\n               window.letsPlotCallQueue = [];\n               \n               \n           };\n           script.onerror = function(event) {\n               window.letsPlotCall = function(f) {};\n               window.letsPlotCallQueue = [];\n               var div = document.createElement(\"div\");\n               div.style.color = 'darkred';\n               div.textContent = 'Error loading Lets-Plot JS';\n               document.getElementById(\"QqgP3l\").appendChild(div);\n           };\n           var e = document.getElementById(\"QqgP3l\");\n           e.appendChild(script);\n       })();\n   </script>"
     },
     "metadata": {},
     "output_type": "display_data"
    },
    {
     "data": {
      "text/html": "            <div id=\"kotlin_out_0\"/>\n            <script type=\"text/javascript\">\n                            if(!window.kotlinQueues) {\n                window.kotlinQueues = {};\n            }\n            if(!window.kotlinQueues[\"DataFrame\"]) {\n                var resQueue = [];\n                window.kotlinQueues[\"DataFrame\"] = resQueue;\n                window[\"call_DataFrame\"] = function(f) {\n                    resQueue.push(f);\n                }\n            }\n            (function (){\n                var modifiers = [(function(script) {\n    script.src = \"https://cdn.jsdelivr.net/gh/Kotlin/dataframe@d6467c1389bc031958acd5310fce39167b5cc581/src/main/resources/init.js\"\n    script.type = \"text/javascript\";\n})];\n                var e = document.getElementById(\"kotlin_out_0\");\n                modifiers.forEach(function (gen) {\n                    var script = document.createElement(\"script\");\n                    gen(script)\n                    script.addEventListener(\"load\", function() {\n                        window[\"call_DataFrame\"] = function(f) {f();};\n                        window.kotlinQueues[\"DataFrame\"].forEach(function(f) {f();});\n                        window.kotlinQueues[\"DataFrame\"] = [];\n                    }, false);\n                    script.addEventListener(\"error\", function() {\n                        window[\"call_DataFrame\"] = function(f) {};\n                        window.kotlinQueues[\"DataFrame\"] = [];\n                        var div = document.createElement(\"div\");\n                        div.style.color = 'darkred';\n                        div.textContent = 'Error loading resource DataFrame';\n                        document.getElementById(\"kotlin_out_0\").appendChild(div);\n                    }, false);\n                    \n                    e.appendChild(script);\n                });\n            })();\n            </script>"
     },
     "metadata": {},
     "output_type": "display_data"
    },
    {
     "data": {
      "text/html": "                <style>\n                :root {\n    --background: #fff;\n    --background-odd: #f5f5f5;\n    --background-hover: #d9edfd;\n    --header-text-color: #474747;\n    --text-color: #848484;\n    --text-color-dark: #000;\n    --text-color-medium: #737373;\n    --text-color-pale: #b3b3b3;\n    --inner-border-color: #aaa;\n    --bold-border-color: #000;\n    --link-color: #296eaa;\n    --link-color-pale: #296eaa;\n    --link-hover: #1a466c;\n}\n\n:root[theme=\"dark\"], :root [data-jp-theme-light=\"false\"], .dataframe_dark{\n    --background: #303030;\n    --background-odd: #3c3c3c;\n    --background-hover: #464646;\n    --header-text-color: #dddddd;\n    --text-color: #b3b3b3;\n    --text-color-dark: #dddddd;\n    --text-color-medium: #b2b2b2;\n    --text-color-pale: #737373;\n    --inner-border-color: #707070;\n    --bold-border-color: #777777;\n    --link-color: #008dc0;\n    --link-color-pale: #97e1fb;\n    --link-hover: #00688e;\n}\n\ntable.dataframe {\n    font-family: \"Helvetica Neue\", Helvetica, Arial, sans-serif;\n    font-size: 12px;\n    background-color: var(--background);\n    color: var(--text-color-dark);\n    border: none;\n    border-collapse: collapse;\n}\n\ntable.dataframe th, td {\n    padding: 6px;\n    border: 1px solid transparent;\n    text-align: left;\n}\n\ntable.dataframe th {\n    background-color: var(--background);\n    color: var(--header-text-color);\n}\n\ntable.dataframe td {\n    vertical-align: top;\n}\n\ntable.dataframe th.bottomBorder {\n    border-bottom-color: var(--bold-border-color);\n}\n\ntable.dataframe tbody > tr:nth-child(odd) {\n    background: var(--background-odd);\n}\n\ntable.dataframe tbody > tr:nth-child(even) {\n    background: var(--background);\n}\n\ntable.dataframe tbody > tr:hover {\n    background: var(--background-hover);\n}\n\ntable.dataframe a {\n    cursor: pointer;\n    color: var(--link-color);\n    text-decoration: none;\n}\n\ntable.dataframe tr:hover > td a {\n    color: var(--link-color-pale);\n}\n\ntable.dataframe a:hover {\n    color: var(--link-hover);\n    text-decoration: underline;\n}\n\ntable.dataframe img {\n    max-width: fit-content;\n}\n\ntable.dataframe th.complex {\n    background-color: var(--background);\n    border: 1px solid var(--background);\n}\n\ntable.dataframe .leftBorder {\n    border-left-color: var(--inner-border-color);\n}\n\ntable.dataframe .rightBorder {\n    border-right-color: var(--inner-border-color);\n}\n\ntable.dataframe .rightAlign {\n    text-align: right;\n}\n\ntable.dataframe .expanderSvg {\n    width: 8px;\n    height: 8px;\n    margin-right: 3px;\n}\n\ntable.dataframe .expander {\n    display: flex;\n    align-items: center;\n}\n\n/* formatting */\n\ntable.dataframe .null {\n    color: var(--text-color-pale);\n}\n\ntable.dataframe .structural {\n    color: var(--text-color-medium);\n    font-weight: bold;\n}\n\ntable.dataframe .dataFrameCaption {\n    font-weight: bold;\n}\n\ntable.dataframe .numbers {\n    color: var(--text-color-dark);\n}\n\ntable.dataframe td:hover .formatted .structural, .null {\n    color: var(--text-color-dark);\n}\n\ntable.dataframe tr:hover .formatted .structural, .null {\n    color: var(--text-color-dark);\n}\n\n\n                </style>"
     },
     "metadata": {},
     "output_type": "display_data"
    }
   ],
   "source": [
    "%useLatestDescriptors\n",
    "%use ggdsl(0.2.3-dev-7)"
   ]
  },
  {
   "cell_type": "markdown",
   "metadata": {},
   "source": [
    "# Statistics"
   ]
  },
  {
   "cell_type": "markdown",
   "source": [
    "Rather than using statistical ore-transformations of your dataset, you can calculate it inside the DSL. The \"stat\" family of functions is used for this purpose. These functions convert the original data into a new dataset with calculated statistics. The set of these statistics is defined by the function. Within a context, its statistics can be accessed through the `Stat` field .These statistics act as pointers to the columns in the new dataset. And you can do the same thing with them as with regular `ColumnPointer` : they can be mapped to aesthetics, scaled, used in tooltips, etc."
   ],
   "metadata": {
    "collapsed": false
   }
  },
  {
   "cell_type": "code",
   "execution_count": 2,
   "outputs": [],
   "source": [
    "import kotlin.random.Random\n",
    "\n",
    "val observations = List(1000) { Random.nextDouble() }\n",
    "val observationsDataset = mapOf(\n",
    "    \"observations\" to observations\n",
    ")\n",
    "val obs = columnPointer<Double>(\"observations\")"
   ],
   "metadata": {
    "collapsed": false
   }
  },
  {
   "cell_type": "code",
   "execution_count": 4,
   "outputs": [
    {
     "data": {
      "text/html": "   <div id=\"HpM1DC\"></div>\n   <script type=\"text/javascript\" data-lets-plot-script=\"plot\">\n       (function() {\n           var plotSpec={\n\"mapping\":{\n},\n\"data\":{\n},\n\"kind\":\"plot\",\n\"scales\":[{\n\"aesthetic\":\"x\"\n},{\n\"aesthetic\":\"y\",\n\"limits\":[0.0,100.0],\n\"trans\":\"reverse\"\n},{\n\"aesthetic\":\"x\"\n},{\n\"aesthetic\":\"y\"\n}],\n\"layers\":[{\n\"mapping\":{\n\"x\":\"..x..\",\n\"y\":\"..count..\"\n},\n\"stat\":\"identity\",\n\"data\":{\n\"..x..\":[-0.007780929040537059,0.0456630488514096,0.09910702674335625,0.1525510046353029,0.20599498252724957,0.25943896041919623,0.3128829383111429,0.36632691620308955,0.4197708940950362,0.47321487198698287,0.5266588498789295,0.5801028277708762,0.6335468056628228,0.6869907835547695,0.7404347614467162,0.7938787393386628,0.8473227172306095,0.9007666951225561,0.9542106730145028,1.0076546509064495],\n\"..count..\":[15.0,62.0,46.0,44.0,62.0,49.0,53.0,58.0,66.0,47.0,60.0,54.0,53.0,43.0,58.0,50.0,60.0,61.0,43.0,16.0]\n},\n\"alpha\":0.5,\n\"position\":\"identity\",\n\"geom\":\"bar\",\n\"tooltips\":{\n\"tooltip_lines\":[\"count|@..count..\"],\n\"tooltip_formats\":[{\n\"field\":\"..count..\",\n\"format\":\"%d\"\n}]\n}\n},{\n\"mapping\":{\n\"x\":\"..x..\",\n\"y\":\"..count..\"\n},\n\"stat\":\"identity\",\n\"data\":{\n\"..x..\":[-0.007780929040537059,0.0456630488514096,0.09910702674335625,0.1525510046353029,0.20599498252724957,0.25943896041919623,0.3128829383111429,0.36632691620308955,0.4197708940950362,0.47321487198698287,0.5266588498789295,0.5801028277708762,0.6335468056628228,0.6869907835547695,0.7404347614467162,0.7938787393386628,0.8473227172306095,0.9007666951225561,0.9542106730145028,1.0076546509064495],\n\"..count..\":[15.0,62.0,46.0,44.0,62.0,49.0,53.0,58.0,66.0,47.0,60.0,54.0,53.0,43.0,58.0,50.0,60.0,61.0,43.0,16.0]\n},\n\"size\":2.5,\n\"color\":\"red\",\n\"position\":\"identity\",\n\"geom\":\"path\"\n}]\n};\n           var plotContainer = document.getElementById(\"HpM1DC\");\n           window.letsPlotCall(function() {{\n               LetsPlot.buildPlotFromProcessedSpecs(plotSpec, -1, -1, plotContainer);\n           }});\n       })();    \n   </script>"
     },
     "execution_count": 4,
     "metadata": {},
     "output_type": "execute_result"
    }
   ],
   "source": [
    "plot(observationsDataset) {\n",
    "    statBin(obs) {\n",
    "         bar {\n",
    "            // simple mapping\n",
    "            x(Stat.BINS)\n",
    "            // mapping with scale\n",
    "            y(Stat.COUNT.scaled(continuousPos(0 to 100, transform = Transformation.REVERSE)))\n",
    "\n",
    "            alpha(0.5)\n",
    "\n",
    "            // formatting of stat value format\n",
    "            tooltips(statFormats = mapOf(\n",
    "                Stat.COUNT to \"%d\"\n",
    "            )) {\n",
    "                // line with the name of stat (i.e. \"count\") on the left side and its value on the right side\n",
    "                line(Stat.COUNT)\n",
    "             }\n",
    "         }\n",
    "\n",
    "         path {\n",
    "             x(Stat.BINS)\n",
    "             y(Stat.COUNT)\n",
    "\n",
    "             width(2.5)\n",
    "             color(Color.RED)\n",
    "         }\n",
    "    }\n",
    "}"
   ],
   "metadata": {
    "collapsed": false
   }
  },
  {
   "cell_type": "markdown",
   "source": [
    "In addition, for basic statistical charts there is a simpler API, which combines into one function the counting of statistics and the creation of a layer. For example, a histogram is nothing more than a counting of \"bin\" statistics and a bar chart that has bins values on X and count values on Y."
   ],
   "metadata": {
    "collapsed": false
   }
  },
  {
   "cell_type": "code",
   "execution_count": 11,
   "outputs": [
    {
     "data": {
      "text/html": "   <div id=\"up8hgP\"></div>\n   <script type=\"text/javascript\" data-lets-plot-script=\"plot\">\n       (function() {\n           var plotSpec={\n\"ggtitle\":{\n\"text\":\"`histogram`\"\n},\n\"mapping\":{\n},\n\"data\":{\n},\n\"kind\":\"plot\",\n\"scales\":[{\n\"aesthetic\":\"x\"\n},{\n\"aesthetic\":\"y\"\n}],\n\"layers\":[{\n\"mapping\":{\n\"x\":\"..x..\",\n\"y\":\"..count..\"\n},\n\"stat\":\"identity\",\n\"data\":{\n\"..x..\":[-0.007780929040537059,0.0456630488514096,0.09910702674335625,0.1525510046353029,0.20599498252724957,0.25943896041919623,0.3128829383111429,0.36632691620308955,0.4197708940950362,0.47321487198698287,0.5266588498789295,0.5801028277708762,0.6335468056628228,0.6869907835547695,0.7404347614467162,0.7938787393386628,0.8473227172306095,0.9007666951225561,0.9542106730145028,1.0076546509064495],\n\"..count..\":[15.0,62.0,46.0,44.0,62.0,49.0,53.0,58.0,66.0,47.0,60.0,54.0,53.0,43.0,58.0,50.0,60.0,61.0,43.0,16.0]\n},\n\"position\":\"identity\",\n\"geom\":\"bar\"\n}]\n};\n           var plotContainer = document.getElementById(\"up8hgP\");\n           window.letsPlotCall(function() {{\n               LetsPlot.buildPlotFromProcessedSpecs(plotSpec, -1, -1, plotContainer);\n           }});\n       })();    \n   </script>"
     },
     "execution_count": 11,
     "metadata": {},
     "output_type": "execute_result"
    }
   ],
   "source": [
    "val histPlot = plot(observationsDataset) {\n",
    "    histogram(obs)\n",
    "\n",
    "    layout.title = \"`histogram`\"\n",
    "}\n",
    "histPlot"
   ],
   "metadata": {
    "collapsed": false
   }
  },
  {
   "cell_type": "markdown",
   "source": [
    "You can compare it to a bar chart with the calculation of bins stat:"
   ],
   "metadata": {
    "collapsed": false
   }
  },
  {
   "cell_type": "code",
   "execution_count": 12,
   "outputs": [
    {
     "data": {
      "text/html": "   <div id=\"TDGk2f\"></div>\n   <script type=\"text/javascript\" data-lets-plot-script=\"plot\">\n       (function() {\n           var plotSpec={\n\"kind\":\"ggbunch\",\n\"items\":[{\n\"x\":0,\n\"width\":800,\n\"y\":0,\n\"feature_spec\":{\n\"ggtitle\":{\n\"text\":\"`histogram`\"\n},\n\"mapping\":{\n},\n\"data\":{\n},\n\"kind\":\"plot\",\n\"scales\":[{\n\"aesthetic\":\"x\"\n},{\n\"aesthetic\":\"y\"\n}],\n\"layers\":[{\n\"mapping\":{\n\"x\":\"..x..\",\n\"y\":\"..count..\"\n},\n\"stat\":\"identity\",\n\"data\":{\n\"..x..\":[-0.007780929040537059,0.0456630488514096,0.09910702674335625,0.1525510046353029,0.20599498252724957,0.25943896041919623,0.3128829383111429,0.36632691620308955,0.4197708940950362,0.47321487198698287,0.5266588498789295,0.5801028277708762,0.6335468056628228,0.6869907835547695,0.7404347614467162,0.7938787393386628,0.8473227172306095,0.9007666951225561,0.9542106730145028,1.0076546509064495],\n\"..count..\":[15.0,62.0,46.0,44.0,62.0,49.0,53.0,58.0,66.0,47.0,60.0,54.0,53.0,43.0,58.0,50.0,60.0,61.0,43.0,16.0]\n},\n\"position\":\"identity\",\n\"geom\":\"bar\"\n}]\n},\n\"height\":533\n},{\n\"x\":800,\n\"width\":800,\n\"y\":0,\n\"feature_spec\":{\n\"ggtitle\":{\n\"text\":\"`statBin` + `bar`\"\n},\n\"mapping\":{\n},\n\"data\":{\n},\n\"kind\":\"plot\",\n\"scales\":[{\n\"aesthetic\":\"x\"\n},{\n\"aesthetic\":\"y\"\n}],\n\"layers\":[{\n\"mapping\":{\n\"x\":\"..x..\",\n\"y\":\"..count..\"\n},\n\"stat\":\"identity\",\n\"data\":{\n\"..x..\":[-0.007780929040537059,0.0456630488514096,0.09910702674335625,0.1525510046353029,0.20599498252724957,0.25943896041919623,0.3128829383111429,0.36632691620308955,0.4197708940950362,0.47321487198698287,0.5266588498789295,0.5801028277708762,0.6335468056628228,0.6869907835547695,0.7404347614467162,0.7938787393386628,0.8473227172306095,0.9007666951225561,0.9542106730145028,1.0076546509064495],\n\"..count..\":[15.0,62.0,46.0,44.0,62.0,49.0,53.0,58.0,66.0,47.0,60.0,54.0,53.0,43.0,58.0,50.0,60.0,61.0,43.0,16.0]\n},\n\"position\":\"identity\",\n\"geom\":\"bar\"\n}]\n},\n\"height\":533\n}]\n};\n           var plotContainer = document.getElementById(\"TDGk2f\");\n           window.letsPlotCall(function() {{\n               LetsPlot.buildPlotFromProcessedSpecs(plotSpec, -1, -1, plotContainer);\n           }});\n       })();    \n   </script>"
     },
     "execution_count": 12,
     "metadata": {},
     "output_type": "execute_result"
    }
   ],
   "source": [
    "val binBarPlot = plot(observationsDataset) {\n",
    "    statBin(obs) {\n",
    "        bar {\n",
    "            x(Stat.BINS)\n",
    "            y(Stat.COUNT)\n",
    "         }\n",
    "    }\n",
    "    layout.title = \"`statBin` + `bar`\"\n",
    "}\n",
    "\n",
    "plotGrid(listOf(histPlot, binBarPlot), 2, 800, 600)"
   ],
   "metadata": {
    "collapsed": false
   }
  },
  {
   "cell_type": "code",
   "execution_count": 11,
   "metadata": {
    "datalore": {
     "hide_input_from_viewers": false,
     "hide_output_from_viewers": false,
     "node_id": "3Ekdf597AHTedEALy7X5h9",
     "report_properties": {},
     "type": "CODE"
    }
   },
   "outputs": [],
   "source": [
    "import kotlin.random.Random\n",
    "\n",
    "val time = List(15) {it}\n",
    "val a1 = List(15) { Random.nextDouble() }\n",
    "val a2 = List(15) { Random.nextDouble() }"
   ]
  },
  {
   "cell_type": "code",
   "execution_count": 3,
   "metadata": {
    "datalore": {
     "hide_input_from_viewers": true,
     "hide_output_from_viewers": true,
     "node_id": "PTYCPVFziRCVYwWeEaKnoD",
     "type": "CODE"
    },
    "scrolled": true
   },
   "outputs": [
    {
     "data": {
      "text/html": "   <div id=\"0yo2by\"></div>\n   <script type=\"text/javascript\" data-lets-plot-script=\"plot\">\n       (function() {\n           var plotSpec={\n\"mapping\":{\n},\n\"data\":{\n},\n\"kind\":\"plot\",\n\"scales\":[{\n\"aesthetic\":\"x\"\n},{\n\"aesthetic\":\"y\"\n},{\n\"aesthetic\":\"color\",\n\"values\":[\"red\",\"blue\"],\n\"limits\":[\"A1\",\"A2++\"]\n},{\n\"aesthetic\":\"linetype\",\n\"values\":[2.0,3.0],\n\"limits\":[\"A1\",\"A2++\"]\n}],\n\"layers\":[{\n\"mapping\":{\n\"x\":\"x\",\n\"y\":\"y\",\n\"color\":\"@as_discrete@label\",\n\"linetype\":\"@as_discrete@label\"\n},\n\"stat\":\"identity\",\n\"data\":{\n\"@as_discrete@label\":[\"A1\",\"A1\",\"A1\",\"A1\",\"A1\",\"A1\",\"A1\",\"A1\",\"A1\",\"A1\",\"A1\",\"A1\",\"A1\",\"A1\",\"A1\",\"A2++\",\"A2++\",\"A2++\",\"A2++\",\"A2++\",\"A2++\",\"A2++\",\"A2++\",\"A2++\",\"A2++\",\"A2++\",\"A2++\",\"A2++\",\"A2++\",\"A2++\"],\n\"x\":[0.0,1.0,2.0,3.0,4.0,5.0,6.0,7.0,8.0,9.0,10.0,11.0,12.0,13.0,14.0,0.0,1.0,2.0,3.0,4.0,5.0,6.0,7.0,8.0,9.0,10.0,11.0,12.0,13.0,14.0],\n\"y\":[0.519881221507448,0.8078015786996117,0.07416418427759142,0.9289676510942767,0.32834966786983166,0.03250301394390187,0.883026960742584,0.0622985540104154,0.20207850573274988,0.6705564313761249,0.40233121208806366,0.2792465455935159,0.4103359939450023,0.26302146241473867,0.6201065802547394,0.08492976293974897,0.19543550815169508,0.9793004040950835,0.4827900737321491,0.9061177898808622,0.25382060840992826,0.2875335280379753,0.5829219740969431,0.778968250657933,0.6389157122015433,0.40732328922794203,0.1929359162521852,0.5546642322944495,0.9207329453203242,0.9205178332647241]\n},\n\"size\":2.5,\n\"position\":\"identity\",\n\"geom\":\"line\",\n\"data_meta\":{\n\"mapping_annotations\":[{\n\"aes\":\"color\",\n\"annotation\":\"as_discrete\",\n\"parameters\":{\n\"label\":\"label\"\n}\n},{\n\"aes\":\"linetype\",\n\"annotation\":\"as_discrete\",\n\"parameters\":{\n\"label\":\"label\"\n}\n}]\n}\n}]\n};\n           var plotContainer = document.getElementById(\"0yo2by\");\n           window.letsPlotCall(function() {{\n               LetsPlot.buildPlotFromProcessedSpecs(plotSpec, -1, -1, plotContainer);\n           }});\n       })();    \n   </script>"
     },
     "execution_count": 3,
     "metadata": {},
     "output_type": "execute_result"
    }
   ],
   "source": [
    "plot {\n",
    "    lineGather() {\n",
    "        x(time)\n",
    "        width(2.5)\n",
    "        series(\"A1\") {\n",
    "            y(a1)\n",
    "            color(Color.RED)\n",
    "            type(LineType.DASHED)\n",
    "        }\n",
    "        series(\"A2++\") {\n",
    "            y(a2)\n",
    "            color(Color.BLUE)\n",
    "            type(LineType.DOTTED)\n",
    "        }\n",
    "    }\n",
    "}"
   ]
  },
  {
   "cell_type": "code",
   "execution_count": 4,
   "metadata": {
    "datalore": {
     "hide_input_from_viewers": false,
     "hide_output_from_viewers": false,
     "node_id": "3VpJRVY7rKQGzBInAdD3bg",
     "report_properties": {},
     "type": "CODE"
    }
   },
   "outputs": [
    {
     "data": {
      "text/html": "   <div id=\"UQ1eKT\"></div>\n   <script type=\"text/javascript\" data-lets-plot-script=\"plot\">\n       (function() {\n           var plotSpec={\n\"mapping\":{\n},\n\"data\":{\n},\n\"kind\":\"plot\",\n\"scales\":[{\n\"aesthetic\":\"x\"\n},{\n\"aesthetic\":\"y\"\n},{\n\"aesthetic\":\"color\",\n\"values\":[\"red\",\"blue\"],\n\"limits\":[\"A1\",\"A2++\"]\n},{\n\"aesthetic\":\"linetype\",\n\"values\":[2.0,3.0],\n\"limits\":[\"A1\",\"A2++\"]\n}],\n\"layers\":[{\n\"mapping\":{\n\"x\":\"x\",\n\"y\":\"y\",\n\"color\":\"@as_discrete@label\",\n\"linetype\":\"@as_discrete@label\"\n},\n\"stat\":\"identity\",\n\"data\":{\n\"@as_discrete@label\":[\"A1\",\"A1\",\"A1\",\"A1\",\"A1\",\"A1\",\"A1\",\"A1\",\"A1\",\"A1\",\"A1\",\"A1\",\"A1\",\"A1\",\"A1\",\"A2++\",\"A2++\",\"A2++\",\"A2++\",\"A2++\",\"A2++\",\"A2++\",\"A2++\",\"A2++\",\"A2++\",\"A2++\",\"A2++\",\"A2++\",\"A2++\",\"A2++\"],\n\"x\":[0.0,1.0,2.0,3.0,4.0,5.0,6.0,7.0,8.0,9.0,10.0,11.0,12.0,13.0,14.0,0.0,1.0,2.0,3.0,4.0,5.0,6.0,7.0,8.0,9.0,10.0,11.0,12.0,13.0,14.0],\n\"y\":[0.519881221507448,0.8078015786996117,0.07416418427759142,0.9289676510942767,0.32834966786983166,0.03250301394390187,0.883026960742584,0.0622985540104154,0.20207850573274988,0.6705564313761249,0.40233121208806366,0.2792465455935159,0.4103359939450023,0.26302146241473867,0.6201065802547394,0.08492976293974897,0.19543550815169508,0.9793004040950835,0.4827900737321491,0.9061177898808622,0.25382060840992826,0.2875335280379753,0.5829219740969431,0.778968250657933,0.6389157122015433,0.40732328922794203,0.1929359162521852,0.5546642322944495,0.9207329453203242,0.9205178332647241]\n},\n\"size\":2.5,\n\"position\":\"identity\",\n\"geom\":\"line\",\n\"data_meta\":{\n\"mapping_annotations\":[{\n\"aes\":\"color\",\n\"annotation\":\"as_discrete\",\n\"parameters\":{\n\"label\":\"label\"\n}\n},{\n\"aes\":\"linetype\",\n\"annotation\":\"as_discrete\",\n\"parameters\":{\n\"label\":\"label\"\n}\n}]\n}\n}]\n};\n           var plotContainer = document.getElementById(\"UQ1eKT\");\n           window.letsPlotCall(function() {{\n               LetsPlot.buildPlotFromProcessedSpecs(plotSpec, -1, -1, plotContainer);\n           }});\n       })();    \n   </script>"
     },
     "execution_count": 4,
     "metadata": {},
     "output_type": "execute_result"
    }
   ],
   "source": [
    "plot(NamedData(\n",
    "    mapOf(\n",
    "        \"time\" to time,\n",
    "        \"a1\" to a1,\n",
    "        \"a2\" to a2,\n",
    "    ),\n",
    ")) {\n",
    "    gather<Line>() {\n",
    "        x(\"time\"<Int>())\n",
    "        width(2.5)\n",
    "        series(\"A1\") {\n",
    "            y(\"a1\"<Double>())\n",
    "            color(Color.RED)\n",
    "            type(LineType.DASHED)\n",
    "        }\n",
    "        series(\"A2++\") {\n",
    "            y(\"a2\"<Double>())\n",
    "            color(Color.BLUE)\n",
    "            type(LineType.DOTTED)\n",
    "        }\n",
    "    }\n",
    "}"
   ]
  },
  {
   "cell_type": "code",
   "execution_count": 5,
   "metadata": {},
   "outputs": [
    {
     "data": {
      "text/html": "   <div id=\"gNAkmO\"></div>\n   <script type=\"text/javascript\" data-lets-plot-script=\"plot\">\n       (function() {\n           var plotSpec={\n\"mapping\":{\n},\n\"data\":{\n},\n\"kind\":\"plot\",\n\"scales\":[{\n\"aesthetic\":\"x\"\n},{\n\"aesthetic\":\"y\"\n},{\n\"aesthetic\":\"color\",\n\"values\":[\"red\",\"blue\"],\n\"limits\":[\"A1\",\"A2++\"]\n},{\n\"aesthetic\":\"linetype\",\n\"values\":[2.0,3.0],\n\"limits\":[\"A1\",\"A2++\"]\n}],\n\"layers\":[{\n\"mapping\":{\n\"x\":\"x\",\n\"y\":\"y\",\n\"color\":\"@as_discrete@label\",\n\"linetype\":\"@as_discrete@label\"\n},\n\"stat\":\"identity\",\n\"data\":{\n\"@as_discrete@label\":[\"A1\",\"A1\",\"A1\",\"A1\",\"A1\",\"A1\",\"A1\",\"A1\",\"A1\",\"A1\",\"A1\",\"A1\",\"A1\",\"A1\",\"A1\",\"A2++\",\"A2++\",\"A2++\",\"A2++\",\"A2++\",\"A2++\",\"A2++\",\"A2++\",\"A2++\",\"A2++\",\"A2++\",\"A2++\",\"A2++\",\"A2++\",\"A2++\"],\n\"x\":[0.0,1.0,2.0,3.0,4.0,5.0,6.0,7.0,8.0,9.0,10.0,11.0,12.0,13.0,14.0,0.0,1.0,2.0,3.0,4.0,5.0,6.0,7.0,8.0,9.0,10.0,11.0,12.0,13.0,14.0],\n\"y\":[0.519881221507448,0.8078015786996117,0.07416418427759142,0.9289676510942767,0.32834966786983166,0.03250301394390187,0.883026960742584,0.0622985540104154,0.20207850573274988,0.6705564313761249,0.40233121208806366,0.2792465455935159,0.4103359939450023,0.26302146241473867,0.6201065802547394,0.08492976293974897,0.19543550815169508,0.9793004040950835,0.4827900737321491,0.9061177898808622,0.25382060840992826,0.2875335280379753,0.5829219740969431,0.778968250657933,0.6389157122015433,0.40732328922794203,0.1929359162521852,0.5546642322944495,0.9207329453203242,0.9205178332647241]\n},\n\"size\":2.5,\n\"position\":\"identity\",\n\"geom\":\"line\",\n\"data_meta\":{\n\"mapping_annotations\":[{\n\"aes\":\"color\",\n\"annotation\":\"as_discrete\",\n\"parameters\":{\n\"label\":\"label\"\n}\n},{\n\"aes\":\"linetype\",\n\"annotation\":\"as_discrete\",\n\"parameters\":{\n\"label\":\"label\"\n}\n}]\n}\n}]\n};\n           var plotContainer = document.getElementById(\"gNAkmO\");\n           window.letsPlotCall(function() {{\n               LetsPlot.buildPlotFromProcessedSpecs(plotSpec, -1, -1, plotContainer);\n           }});\n       })();    \n   </script>"
     },
     "execution_count": 5,
     "metadata": {},
     "output_type": "execute_result"
    }
   ],
   "source": [
    "plot {\n",
    "    lineGather() {\n",
    "        x(time)\n",
    "        width(2.5)\n",
    "        series(\"A1\") {\n",
    "            y(a1)\n",
    "            color(Color.RED)\n",
    "            type(LineType.DASHED)\n",
    "        }\n",
    "        series(\"A2++\") {\n",
    "            y(a2)\n",
    "            color(Color.BLUE)\n",
    "            type(LineType.DOTTED)\n",
    "        }\n",
    "    }\n",
    "}"
   ]
  },
  {
   "cell_type": "code",
   "execution_count": 6,
   "metadata": {},
   "outputs": [
    {
     "data": {
      "text/html": "   <div id=\"WxcZVo\"></div>\n   <script type=\"text/javascript\" data-lets-plot-script=\"plot\">\n       (function() {\n           var plotSpec={\n\"mapping\":{\n},\n\"data\":{\n},\n\"kind\":\"plot\",\n\"scales\":[{\n\"aesthetic\":\"x\"\n},{\n\"aesthetic\":\"y\"\n},{\n\"aesthetic\":\"color\",\n\"values\":[\"red\",\"blue\"],\n\"limits\":[\"A1\",\"A2++\"]\n},{\n\"aesthetic\":\"shape\",\n\"values\":[8.0,16.0],\n\"limits\":[\"A1\",\"A2++\"]\n}],\n\"layers\":[{\n\"mapping\":{\n\"x\":\"x\",\n\"y\":\"y\",\n\"color\":\"@as_discrete@label\",\n\"shape\":\"@as_discrete@label\"\n},\n\"stat\":\"identity\",\n\"data\":{\n\"@as_discrete@label\":[\"A1\",\"A1\",\"A1\",\"A1\",\"A1\",\"A1\",\"A1\",\"A1\",\"A1\",\"A1\",\"A1\",\"A1\",\"A1\",\"A1\",\"A1\",\"A2++\",\"A2++\",\"A2++\",\"A2++\",\"A2++\",\"A2++\",\"A2++\",\"A2++\",\"A2++\",\"A2++\",\"A2++\",\"A2++\",\"A2++\",\"A2++\",\"A2++\"],\n\"x\":[0.0,1.0,2.0,3.0,4.0,5.0,6.0,7.0,8.0,9.0,10.0,11.0,12.0,13.0,14.0,0.0,1.0,2.0,3.0,4.0,5.0,6.0,7.0,8.0,9.0,10.0,11.0,12.0,13.0,14.0],\n\"y\":[0.519881221507448,0.8078015786996117,0.07416418427759142,0.9289676510942767,0.32834966786983166,0.03250301394390187,0.883026960742584,0.0622985540104154,0.20207850573274988,0.6705564313761249,0.40233121208806366,0.2792465455935159,0.4103359939450023,0.26302146241473867,0.6201065802547394,0.08492976293974897,0.19543550815169508,0.9793004040950835,0.4827900737321491,0.9061177898808622,0.25382060840992826,0.2875335280379753,0.5829219740969431,0.778968250657933,0.6389157122015433,0.40732328922794203,0.1929359162521852,0.5546642322944495,0.9207329453203242,0.9205178332647241]\n},\n\"size\":4.5,\n\"position\":\"identity\",\n\"geom\":\"point\",\n\"data_meta\":{\n\"mapping_annotations\":[{\n\"aes\":\"color\",\n\"annotation\":\"as_discrete\",\n\"parameters\":{\n\"label\":\"label\"\n}\n},{\n\"aes\":\"shape\",\n\"annotation\":\"as_discrete\",\n\"parameters\":{\n\"label\":\"label\"\n}\n}]\n}\n}]\n};\n           var plotContainer = document.getElementById(\"WxcZVo\");\n           window.letsPlotCall(function() {{\n               LetsPlot.buildPlotFromProcessedSpecs(plotSpec, -1, -1, plotContainer);\n           }});\n       })();    \n   </script>"
     },
     "execution_count": 6,
     "metadata": {},
     "output_type": "execute_result"
    }
   ],
   "source": [
    "pointPlot(NamedData(\n",
    "    mapOf(\n",
    "        \"time\" to time,\n",
    "        \"a1\" to a1,\n",
    "        \"a2\" to a2,\n",
    "    ),\n",
    ")) {\n",
    "\n",
    "        x(\"time\"<Int>())\n",
    "        size(4.5)\n",
    "        series(\"A1\") {\n",
    "            y(\"a1\"<Double>())\n",
    "            color(Color.RED)\n",
    "            symbol(Symbol.ASTERIX)\n",
    "        }\n",
    "        series(\"A2++\") {\n",
    "            y(\"a2\"<Double>())\n",
    "            color(Color.BLUE)\n",
    "            symbol(Symbol.CIRCLE)\n",
    "        }\n",
    "}"
   ]
  },
  {
   "cell_type": "code",
   "execution_count": 7,
   "metadata": {
    "datalore": {
     "hide_input_from_viewers": false,
     "hide_output_from_viewers": false,
     "node_id": "KsyL3AiivF3GkVZtbmCBBR",
     "report_properties": {},
     "type": "CODE"
    }
   },
   "outputs": [],
   "source": [
    "val time2 = List(15) {2 * it}"
   ]
  },
  {
   "cell_type": "code",
   "execution_count": 8,
   "metadata": {
    "datalore": {
     "hide_input_from_viewers": false,
     "hide_output_from_viewers": false,
     "node_id": "yhg09mAy6uQQECrHarrSrH",
     "report_properties": {},
     "type": "CODE"
    }
   },
   "outputs": [
    {
     "data": {
      "text/html": "   <div id=\"zvffYr\"></div>\n   <script type=\"text/javascript\" data-lets-plot-script=\"plot\">\n       (function() {\n           var plotSpec={\n\"mapping\":{\n},\n\"data\":{\n},\n\"kind\":\"plot\",\n\"scales\":[{\n\"aesthetic\":\"x\"\n},{\n\"aesthetic\":\"y\"\n},{\n\"aesthetic\":\"color\",\n\"discrete\":true\n}],\n\"layers\":[{\n\"mapping\":{\n\"x\":\"x\",\n\"y\":\"y\",\n\"color\":\"@as_discrete@label\"\n},\n\"stat\":\"identity\",\n\"data\":{\n\"@as_discrete@label\":[\"A1\",\"A1\",\"A1\",\"A1\",\"A1\",\"A1\",\"A1\",\"A1\",\"A1\",\"A1\",\"A1\",\"A1\",\"A1\",\"A1\",\"A1\",\"A2++\",\"A2++\",\"A2++\",\"A2++\",\"A2++\",\"A2++\",\"A2++\",\"A2++\",\"A2++\",\"A2++\",\"A2++\",\"A2++\",\"A2++\",\"A2++\",\"A2++\"],\n\"x\":[0.0,1.0,2.0,3.0,4.0,5.0,6.0,7.0,8.0,9.0,10.0,11.0,12.0,13.0,14.0,0.0,2.0,4.0,6.0,8.0,10.0,12.0,14.0,16.0,18.0,20.0,22.0,24.0,26.0,28.0],\n\"y\":[0.519881221507448,0.8078015786996117,0.07416418427759142,0.9289676510942767,0.32834966786983166,0.03250301394390187,0.883026960742584,0.0622985540104154,0.20207850573274988,0.6705564313761249,0.40233121208806366,0.2792465455935159,0.4103359939450023,0.26302146241473867,0.6201065802547394,0.08492976293974897,0.19543550815169508,0.9793004040950835,0.4827900737321491,0.9061177898808622,0.25382060840992826,0.2875335280379753,0.5829219740969431,0.778968250657933,0.6389157122015433,0.40732328922794203,0.1929359162521852,0.5546642322944495,0.9207329453203242,0.9205178332647241]\n},\n\"position\":\"identity\",\n\"geom\":\"line\",\n\"data_meta\":{\n\"mapping_annotations\":[{\n\"aes\":\"color\",\n\"annotation\":\"as_discrete\",\n\"parameters\":{\n\"label\":\"label\"\n}\n}]\n}\n}]\n};\n           var plotContainer = document.getElementById(\"zvffYr\");\n           window.letsPlotCall(function() {{\n               LetsPlot.buildPlotFromProcessedSpecs(plotSpec, -1, -1, plotContainer);\n           }});\n       })();    \n   </script>"
     },
     "execution_count": 8,
     "metadata": {},
     "output_type": "execute_result"
    }
   ],
   "source": [
    "plot(NamedData(\n",
    "    mapOf(\n",
    "        \"time\" to time,\n",
    "        \"time2\" to time2,\n",
    "        \"a1\" to a1,\n",
    "        \"a2\" to a2,\n",
    "    ),\n",
    ")) {\n",
    "    gather<Line>() {\n",
    "        series(\"A1\") {\n",
    "            x(\"time\"<Int>())\n",
    "            y(\"a1\"<Int>())\n",
    "        }\n",
    "        series(\"A2++\") {\n",
    "            x(\"time2\"<Int>())\n",
    "            y(\"a2\"<Int>())\n",
    "        }\n",
    "    }\n",
    "}"
   ]
  },
  {
   "cell_type": "code",
   "execution_count": 9,
   "metadata": {},
   "outputs": [
    {
     "data": {
      "text/html": "   <div id=\"Cn9zZh\"></div>\n   <script type=\"text/javascript\" data-lets-plot-script=\"plot\">\n       (function() {\n           var plotSpec={\n\"mapping\":{\n},\n\"data\":{\n},\n\"kind\":\"plot\",\n\"scales\":[{\n\"aesthetic\":\"x\"\n},{\n\"aesthetic\":\"y\"\n},{\n\"aesthetic\":\"fill\",\n\"values\":[\"red\",\"blue\"],\n\"limits\":[\"A1\",\"A2++\"]\n}],\n\"layers\":[{\n\"mapping\":{\n\"x\":\"x\",\n\"y\":\"y\",\n\"fill\":\"@as_discrete@label\"\n},\n\"stat\":\"identity\",\n\"data\":{\n\"@as_discrete@label\":[\"A1\",\"A1\",\"A1\",\"A1\",\"A1\",\"A1\",\"A1\",\"A1\",\"A1\",\"A1\",\"A1\",\"A1\",\"A1\",\"A1\",\"A1\",\"A2++\",\"A2++\",\"A2++\",\"A2++\",\"A2++\",\"A2++\",\"A2++\",\"A2++\",\"A2++\",\"A2++\",\"A2++\",\"A2++\",\"A2++\",\"A2++\",\"A2++\"],\n\"x\":[0.0,1.0,2.0,3.0,4.0,5.0,6.0,7.0,8.0,9.0,10.0,11.0,12.0,13.0,14.0,0.0,1.0,2.0,3.0,4.0,5.0,6.0,7.0,8.0,9.0,10.0,11.0,12.0,13.0,14.0],\n\"y\":[0.519881221507448,0.8078015786996117,0.07416418427759142,0.9289676510942767,0.32834966786983166,0.03250301394390187,0.883026960742584,0.0622985540104154,0.20207850573274988,0.6705564313761249,0.40233121208806366,0.2792465455935159,0.4103359939450023,0.26302146241473867,0.6201065802547394,0.08492976293974897,0.19543550815169508,0.9793004040950835,0.4827900737321491,0.9061177898808622,0.25382060840992826,0.2875335280379753,0.5829219740969431,0.778968250657933,0.6389157122015433,0.40732328922794203,0.1929359162521852,0.5546642322944495,0.9207329453203242,0.9205178332647241]\n},\n\"position\":\"dodge\",\n\"geom\":\"bar\",\n\"data_meta\":{\n\"mapping_annotations\":[{\n\"aes\":\"fill\",\n\"annotation\":\"as_discrete\",\n\"parameters\":{\n\"label\":\"label\"\n}\n}]\n}\n}]\n};\n           var plotContainer = document.getElementById(\"Cn9zZh\");\n           window.letsPlotCall(function() {{\n               LetsPlot.buildPlotFromProcessedSpecs(plotSpec, -1, -1, plotContainer);\n           }});\n       })();    \n   </script>"
     },
     "execution_count": 9,
     "metadata": {},
     "output_type": "execute_result"
    }
   ],
   "source": [
    "barPlot(NamedData(\n",
    "    mapOf(\n",
    "        \"time\" to time,\n",
    "        \"a1\" to a1,\n",
    "        \"a2\" to a2,\n",
    "    ),\n",
    "), Position.Dodge()\n",
    "       ) {\n",
    "        x(\"time\"<Int>())\n",
    "        series(\"A1\") {\n",
    "            y(\"a1\"<Int>())\n",
    "            color(Color.RED)\n",
    "        }\n",
    "        series(\"A2++\") {\n",
    "            y(\"a2\"<Int>())\n",
    "            color(Color.BLUE)\n",
    "        }\n",
    "}"
   ]
  },
  {
   "cell_type": "code",
   "execution_count": 10,
   "metadata": {},
   "outputs": [
    {
     "data": {
      "text/html": "   <div id=\"rPP3Ki\"></div>\n   <script type=\"text/javascript\" data-lets-plot-script=\"plot\">\n       (function() {\n           var plotSpec={\n\"mapping\":{\n},\n\"data\":{\n},\n\"kind\":\"plot\",\n\"scales\":[{\n\"aesthetic\":\"x\"\n},{\n\"aesthetic\":\"y\"\n},{\n\"aesthetic\":\"fill\",\n\"values\":[\"red\",\"blue\"],\n\"limits\":[\"A1\",\"A2++\"]\n}],\n\"layers\":[{\n\"mapping\":{\n\"x\":\"x\",\n\"y\":\"y\",\n\"fill\":\"@as_discrete@label\"\n},\n\"stat\":\"identity\",\n\"data\":{\n\"@as_discrete@label\":[\"A1\",\"A1\",\"A1\",\"A1\",\"A1\",\"A1\",\"A1\",\"A1\",\"A1\",\"A1\",\"A1\",\"A1\",\"A1\",\"A1\",\"A1\",\"A2++\",\"A2++\",\"A2++\",\"A2++\",\"A2++\",\"A2++\",\"A2++\",\"A2++\",\"A2++\",\"A2++\",\"A2++\",\"A2++\",\"A2++\",\"A2++\",\"A2++\"],\n\"x\":[0.0,1.0,2.0,3.0,4.0,5.0,6.0,7.0,8.0,9.0,10.0,11.0,12.0,13.0,14.0,0.0,1.0,2.0,3.0,4.0,5.0,6.0,7.0,8.0,9.0,10.0,11.0,12.0,13.0,14.0],\n\"y\":[0.519881221507448,0.8078015786996117,0.07416418427759142,0.9289676510942767,0.32834966786983166,0.03250301394390187,0.883026960742584,0.0622985540104154,0.20207850573274988,0.6705564313761249,0.40233121208806366,0.2792465455935159,0.4103359939450023,0.26302146241473867,0.6201065802547394,0.08492976293974897,0.19543550815169508,0.9793004040950835,0.4827900737321491,0.9061177898808622,0.25382060840992826,0.2875335280379753,0.5829219740969431,0.778968250657933,0.6389157122015433,0.40732328922794203,0.1929359162521852,0.5546642322944495,0.9207329453203242,0.9205178332647241]\n},\n\"position\":\"stack\",\n\"geom\":\"bar\",\n\"data_meta\":{\n\"mapping_annotations\":[{\n\"aes\":\"fill\",\n\"annotation\":\"as_discrete\",\n\"parameters\":{\n\"label\":\"label\"\n}\n}]\n}\n}]\n};\n           var plotContainer = document.getElementById(\"rPP3Ki\");\n           window.letsPlotCall(function() {{\n               LetsPlot.buildPlotFromProcessedSpecs(plotSpec, -1, -1, plotContainer);\n           }});\n       })();    \n   </script>"
     },
     "execution_count": 10,
     "metadata": {},
     "output_type": "execute_result"
    }
   ],
   "source": [
    "barPlot(NamedData(\n",
    "    mapOf(\n",
    "        \"time\" to time,\n",
    "        \"a1\" to a1,\n",
    "        \"a2\" to a2,\n",
    "    ),\n",
    "), Position.Stack\n",
    "       ) {\n",
    "        x(\"time\"<Int>())\n",
    "        series(\"A1\") {\n",
    "            y(\"a1\"<Int>())\n",
    "            color(Color.RED)\n",
    "        }\n",
    "        series(\"A2++\") {\n",
    "            y(\"a2\"<Int>())\n",
    "            color(Color.BLUE)\n",
    "        }\n",
    "}"
   ]
  }
 ],
 "metadata": {
  "datalore": {
   "base_environment": "default",
   "computation_mode": "JUPYTER",
   "package_manager": "pip",
   "packages": [],
   "version": 1
  },
  "kernelspec": {
   "display_name": "Kotlin",
   "language": "kotlin",
   "name": "kotlin"
  },
  "language_info": {
   "codemirror_mode": "text/x-kotlin",
   "file_extension": ".kt",
   "mimetype": "text/x-kotlin",
   "name": "kotlin",
   "nbconvert_exporter": "",
   "pygments_lexer": "kotlin",
   "version": "1.7.21"
  }
 },
 "nbformat": 4,
 "nbformat_minor": 4
}
