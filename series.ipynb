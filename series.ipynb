{
 "cells": [
  {
   "cell_type": "code",
   "execution_count": 1,
   "metadata": {
    "datalore": {
     "hide_input_from_viewers": false,
     "hide_output_from_viewers": false,
     "node_id": "kW5gBho4CSvgJY4hjCFxFS",
     "report_properties": {},
     "type": "CODE"
    }
   },
   "outputs": [
    {
     "data": {
      "text/html": "   <div id=\"rzpoKy\"></div>\n   <script type=\"text/javascript\" data-lets-plot-script=\"library\">\n       if(!window.letsPlotCallQueue) {\n           window.letsPlotCallQueue = [];\n       }; \n       window.letsPlotCall = function(f) {\n           window.letsPlotCallQueue.push(f);\n       };\n       (function() {\n           var script = document.createElement(\"script\");\n           script.type = \"text/javascript\";\n           script.src = \"https://cdn.jsdelivr.net/gh/JetBrains/lets-plot@v2.5.0/js-package/distr/lets-plot.min.js\";\n           script.onload = function() {\n               window.letsPlotCall = function(f) {f();};\n               window.letsPlotCallQueue.forEach(function(f) {f();});\n               window.letsPlotCallQueue = [];\n               \n               \n           };\n           script.onerror = function(event) {\n               window.letsPlotCall = function(f) {};\n               window.letsPlotCallQueue = [];\n               var div = document.createElement(\"div\");\n               div.style.color = 'darkred';\n               div.textContent = 'Error loading Lets-Plot JS';\n               document.getElementById(\"rzpoKy\").appendChild(div);\n           };\n           var e = document.getElementById(\"rzpoKy\");\n           e.appendChild(script);\n       })();\n   </script>"
     },
     "metadata": {},
     "output_type": "display_data"
    },
    {
     "data": {
      "text/html": "            <div id=\"kotlin_out_0\"/>\n            <script type=\"text/javascript\">\n                            if(!window.kotlinQueues) {\n                window.kotlinQueues = {};\n            }\n            if(!window.kotlinQueues[\"DataFrame\"]) {\n                var resQueue = [];\n                window.kotlinQueues[\"DataFrame\"] = resQueue;\n                window[\"call_DataFrame\"] = function(f) {\n                    resQueue.push(f);\n                }\n            }\n            (function (){\n                var modifiers = [(function(script) {\n    script.src = \"https://cdn.jsdelivr.net/gh/Kotlin/dataframe@d6467c1389bc031958acd5310fce39167b5cc581/src/main/resources/init.js\"\n    script.type = \"text/javascript\";\n})];\n                var e = document.getElementById(\"kotlin_out_0\");\n                modifiers.forEach(function (gen) {\n                    var script = document.createElement(\"script\");\n                    gen(script)\n                    script.addEventListener(\"load\", function() {\n                        window[\"call_DataFrame\"] = function(f) {f();};\n                        window.kotlinQueues[\"DataFrame\"].forEach(function(f) {f();});\n                        window.kotlinQueues[\"DataFrame\"] = [];\n                    }, false);\n                    script.addEventListener(\"error\", function() {\n                        window[\"call_DataFrame\"] = function(f) {};\n                        window.kotlinQueues[\"DataFrame\"] = [];\n                        var div = document.createElement(\"div\");\n                        div.style.color = 'darkred';\n                        div.textContent = 'Error loading resource DataFrame';\n                        document.getElementById(\"kotlin_out_0\").appendChild(div);\n                    }, false);\n                    \n                    e.appendChild(script);\n                });\n            })();\n            </script>"
     },
     "metadata": {},
     "output_type": "display_data"
    },
    {
     "data": {
      "text/html": "                <style>\n                :root {\n    --background: #fff;\n    --background-odd: #f5f5f5;\n    --background-hover: #d9edfd;\n    --header-text-color: #474747;\n    --text-color: #848484;\n    --text-color-dark: #000;\n    --text-color-medium: #737373;\n    --text-color-pale: #b3b3b3;\n    --inner-border-color: #aaa;\n    --bold-border-color: #000;\n    --link-color: #296eaa;\n    --link-color-pale: #296eaa;\n    --link-hover: #1a466c;\n}\n\n:root[theme=\"dark\"], :root [data-jp-theme-light=\"false\"], .dataframe_dark{\n    --background: #303030;\n    --background-odd: #3c3c3c;\n    --background-hover: #464646;\n    --header-text-color: #dddddd;\n    --text-color: #b3b3b3;\n    --text-color-dark: #dddddd;\n    --text-color-medium: #b2b2b2;\n    --text-color-pale: #737373;\n    --inner-border-color: #707070;\n    --bold-border-color: #777777;\n    --link-color: #008dc0;\n    --link-color-pale: #97e1fb;\n    --link-hover: #00688e;\n}\n\ntable.dataframe {\n    font-family: \"Helvetica Neue\", Helvetica, Arial, sans-serif;\n    font-size: 12px;\n    background-color: var(--background);\n    color: var(--text-color-dark);\n    border: none;\n    border-collapse: collapse;\n}\n\ntable.dataframe th, td {\n    padding: 6px;\n    border: 1px solid transparent;\n    text-align: left;\n}\n\ntable.dataframe th {\n    background-color: var(--background);\n    color: var(--header-text-color);\n}\n\ntable.dataframe td {\n    vertical-align: top;\n}\n\ntable.dataframe th.bottomBorder {\n    border-bottom-color: var(--bold-border-color);\n}\n\ntable.dataframe tbody > tr:nth-child(odd) {\n    background: var(--background-odd);\n}\n\ntable.dataframe tbody > tr:nth-child(even) {\n    background: var(--background);\n}\n\ntable.dataframe tbody > tr:hover {\n    background: var(--background-hover);\n}\n\ntable.dataframe a {\n    cursor: pointer;\n    color: var(--link-color);\n    text-decoration: none;\n}\n\ntable.dataframe tr:hover > td a {\n    color: var(--link-color-pale);\n}\n\ntable.dataframe a:hover {\n    color: var(--link-hover);\n    text-decoration: underline;\n}\n\ntable.dataframe img {\n    max-width: fit-content;\n}\n\ntable.dataframe th.complex {\n    background-color: var(--background);\n    border: 1px solid var(--background);\n}\n\ntable.dataframe .leftBorder {\n    border-left-color: var(--inner-border-color);\n}\n\ntable.dataframe .rightBorder {\n    border-right-color: var(--inner-border-color);\n}\n\ntable.dataframe .rightAlign {\n    text-align: right;\n}\n\ntable.dataframe .expanderSvg {\n    width: 8px;\n    height: 8px;\n    margin-right: 3px;\n}\n\ntable.dataframe .expander {\n    display: flex;\n    align-items: center;\n}\n\n/* formatting */\n\ntable.dataframe .null {\n    color: var(--text-color-pale);\n}\n\ntable.dataframe .structural {\n    color: var(--text-color-medium);\n    font-weight: bold;\n}\n\ntable.dataframe .dataFrameCaption {\n    font-weight: bold;\n}\n\ntable.dataframe .numbers {\n    color: var(--text-color-dark);\n}\n\ntable.dataframe td:hover .formatted .structural, .null {\n    color: var(--text-color-dark);\n}\n\ntable.dataframe tr:hover .formatted .structural, .null {\n    color: var(--text-color-dark);\n}\n\n\n                </style>"
     },
     "metadata": {},
     "output_type": "display_data"
    }
   ],
   "source": [
    "%useLatestDescriptors\n",
    "%use ggdsl(0.2.3-dev-9)"
   ]
  },
  {
   "cell_type": "markdown",
   "source": [
    "# Basics"
   ],
   "metadata": {
    "collapsed": false
   }
  },
  {
   "cell_type": "markdown",
   "source": [
    "## Data"
   ],
   "metadata": {
    "collapsed": false
   }
  },
  {
   "cell_type": "markdown",
   "source": [
    "The main data model for working with plotting is \"named data\" or \"dataframe\", i.e. a set of named value columns of the same size. At the moment, the library does not support working with nullable values. Thus, the input data must have the form `Map<String, List<Any>>`."
   ],
   "metadata": {
    "collapsed": false
   }
  },
  {
   "cell_type": "code",
   "execution_count": 2,
   "outputs": [],
   "source": [
    "val dataset = mapOf<String, List<Any>>(\n",
    "    \"time, ms\" to listOf(12, 87, 130, 149, 200, 221, 250),\n",
    "    \"relativeHumidity\" to listOf(0.45, 0.3, 0.21, 0.15, 0.22, 0.36, 0.8),\n",
    "    \"flowOn\" to listOf(true, true, false, false, true, false, false)\n",
    ")"
   ],
   "metadata": {
    "collapsed": false
   }
  },
  {
   "cell_type": "markdown",
   "source": [
    "In the future we will need to refer to the columns of our dataset. To do this we need to create `ColumnPointer` for each one."
   ],
   "metadata": {
    "collapsed": false
   }
  },
  {
   "cell_type": "code",
   "execution_count": 3,
   "outputs": [],
   "source": [
    "// 1. Using `columnPointer()` function. We need specify type of column and its name in the dataset:\n",
    "val timeMs = columnPointer<Int>(\"time, ms\")\n",
    "// 2. String API similar to the previous one, but with using invocation of `String`:\n",
    "val humidity = \"relativeHumidity\"<Double>()\n",
    "// 3. Using delegation of unnamed column pointer - his name will be taken from the name of the variable:\n",
    "val flowOn by columnPointer<Boolean>()"
   ],
   "metadata": {
    "collapsed": false
   }
  },
  {
   "cell_type": "markdown",
   "source": [
    "## Plot creation"
   ],
   "metadata": {
    "collapsed": false
   }
  },
  {
   "cell_type": "markdown",
   "source": [
    "To create a plot, you need to call the `plot()` function by passing a dataset as an argument. This function creates a context in which you can add layers. A *layer* is a set of mappings from the data to the graph's visual parameters. Here's an example of a graph with one simple layer:"
   ],
   "metadata": {
    "collapsed": false
   }
  },
  {
   "cell_type": "code",
   "execution_count": 4,
   "outputs": [
    {
     "data": {
      "text/html": "   <div id=\"jSBpMn\"></div>\n   <script type=\"text/javascript\" data-lets-plot-script=\"plot\">\n       (function() {\n           var plotSpec={\n\"mapping\":{\n},\n\"data\":{\n\"relativeHumidity\":[0.45,0.3,0.21,0.15,0.22,0.36,0.8],\n\"time, ms\":[12.0,87.0,130.0,149.0,200.0,221.0,250.0]\n},\n\"kind\":\"plot\",\n\"scales\":[{\n\"aesthetic\":\"x\"\n},{\n\"aesthetic\":\"y\"\n}],\n\"layers\":[{\n\"mapping\":{\n\"x\":\"time, ms\",\n\"y\":\"relativeHumidity\"\n},\n\"stat\":\"identity\",\n\"size\":4.5,\n\"position\":\"identity\",\n\"geom\":\"point\",\n\"data\":{\n}\n}]\n};\n           var plotContainer = document.getElementById(\"jSBpMn\");\n           window.letsPlotCall(function() {{\n               LetsPlot.buildPlotFromProcessedSpecs(plotSpec, -1, -1, plotContainer);\n           }});\n       })();    \n   </script>"
     },
     "execution_count": 4,
     "metadata": {},
     "output_type": "execute_result"
    }
   ],
   "source": [
    "plot(dataset) {\n",
    "    point {\n",
    "        // maps values from \"time, ms\" to X\n",
    "        x(timeMs)\n",
    "        // maps values from \"relativeHumidity\" to Y\n",
    "        y(humidity)\n",
    "        // set size of points to 4.5\n",
    "        size(4.5)\n",
    "    }\n",
    "}"
   ],
   "metadata": {
    "collapsed": false
   }
  },
  {
   "cell_type": "markdown",
   "source": [
    "### Layers, aesthetics, mappings and scales"
   ],
   "metadata": {
    "collapsed": false
   }
  },
  {
   "cell_type": "markdown",
   "source": [
    "Each layer is characterized by its *geometrical entity* or just *geom*. Each geom has its own set of *aesthetic attributes* or simply *aesthetics* or *aes*. Aesthetics can be *positional* (e.g. `x`, `y`, `yMin`, `yMax`, `middle`) or *non-positional* (such as `color`, `size`, `width`). Non-positional attributes are characterized by some type (for example, `size` associated with `Double`, `color` with a special type `Color`).\n",
    "The aes value can be assigned in 2 ways: by setting and by mapping.\n",
    "\n",
    "*Setting* is a simply setting constant value:\n",
    "```\n",
    "x(12.0f)\n",
    "size(5.0)\n",
    "color(Color.RED)\n",
    "```\n",
    "\n",
    "*Mapping* is a mapping from the data column to the values of the aesthetic attribute.\n",
    "```\n",
    "x(timeMs)\n",
    "size(humidity)\n",
    "color(flowOn)\n",
    "```\n",
    "\n",
    "The function of this mapping is called *scale*. Scales play a key role in data visualization. In the examples above, the mappings use the default scales, but we can specify the scales explicitly. There are two types of scales --- *categorical* (or discrete) and *continuous*, depends on its domain and range type. If scale is continuous, its domain and range are set using limits, while categorical scale domain and range are set like lists of categories and corresponding to them values. Also scales can be either positional or non-positional (depending on which aesthetic attributes are displayed). Refined scales (with explicit domain/range) are typed. Continuous scales have `transform` parameter; it defines the function type (which is linear by default). Scales can be created with special functions:"
   ],
   "metadata": {
    "collapsed": false
   }
  },
  {
   "cell_type": "code",
   "execution_count": 5,
   "outputs": [],
   "source": [
    "// Non-positional unspecified categorical scale.\n",
    "val nonPosCatUnspec = categorical()\n",
    "// Non-positional unspecified continuous scale.\n",
    "val nonPosContUnspec = continuous(Transformation.LOG10)\n",
    "// Positional unspecified categorical scale.\n",
    "val posCatUnspec = categoricalPos()\n",
    "// Positional unspecified continuous scale.\n",
    "val posContUnspec = continuousPos()\n",
    "\n",
    "// Non-positional categorical scale.\n",
    "val nonPosCat = categorical(listOf(true, false), listOf(Color.RED, Color.BLUE)) //types are inferred\n",
    "// Non-positional continuous scale.\n",
    "val nonPosCont = continuous<Double, Double>(rangeLimits = 8.0 to 17.0) // specify range only, need to specify types\n",
    "// Positional categorical scale.\n",
    "val posCat = categoricalPos(listOf(1, 2, 4, 8, 16))\n",
    "// Positional continuous scale.\n",
    "val posCont = continuousPos(0 to 260, transform = Transformation.REVERSE)"
   ],
   "metadata": {
    "collapsed": false
   }
  },
  {
   "cell_type": "markdown",
   "source": [
    "To apply scale on column, simply use `.scaled()` extensin function of column and pass your scale as an argument. Note, that for refined scale its `DomainType` must match the type of column."
   ],
   "metadata": {
    "collapsed": false
   }
  },
  {
   "cell_type": "code",
   "execution_count": 6,
   "outputs": [],
   "source": [
    "val flowOnToColor = flowOn.scaled(nonPosCat)"
   ],
   "metadata": {
    "collapsed": false
   }
  },
  {
   "cell_type": "markdown",
   "source": [
    "The last thing left is to create a mapping, which is done in the same way as in the case without an explicit scaling --- aesthetic innovation:"
   ],
   "metadata": {
    "collapsed": false
   }
  },
  {
   "cell_type": "code",
   "execution_count": 7,
   "outputs": [
    {
     "data": {
      "text/html": "   <div id=\"41DW0t\"></div>\n   <script type=\"text/javascript\" data-lets-plot-script=\"plot\">\n       (function() {\n           var plotSpec={\n\"mapping\":{\n},\n\"data\":{\n\"relativeHumidity\":[0.45,0.3,0.21,0.15,0.22,0.36,0.8],\n\"time, ms\":[12.0,87.0,130.0,149.0,200.0,221.0,250.0]\n},\n\"kind\":\"plot\",\n\"scales\":[{\n\"aesthetic\":\"x\"\n},{\n\"aesthetic\":\"y\",\n\"limits\":[0.0,1.0]\n},{\n\"aesthetic\":\"size\",\n\"range\":[8.0,17.0]\n},{\n\"aesthetic\":\"color\",\n\"values\":[\"red\",\"blue\"],\n\"limits\":[true,false]\n},{\n\"aesthetic\":\"shape\"\n}],\n\"layers\":[{\n\"mapping\":{\n\"x\":\"time, ms\",\n\"y\":\"relativeHumidity\",\n\"size\":\"relativeHumidity\",\n\"color\":\"@as_discrete@flowOn\",\n\"shape\":\"@as_discrete@flowOn\"\n},\n\"stat\":\"identity\",\n\"position\":\"identity\",\n\"geom\":\"point\",\n\"data_meta\":{\n\"mapping_annotations\":[{\n\"aes\":\"color\",\n\"annotation\":\"as_discrete\",\n\"parameters\":{\n\"label\":\"flowOn\"\n}\n},{\n\"aes\":\"shape\",\n\"annotation\":\"as_discrete\",\n\"parameters\":{\n\"label\":\"flowOn\"\n}\n}]\n},\n\"data\":{\n\"@as_discrete@flowOn\":[true,true,false,false,true,false,false]\n}\n}]\n};\n           var plotContainer = document.getElementById(\"41DW0t\");\n           window.letsPlotCall(function() {{\n               LetsPlot.buildPlotFromProcessedSpecs(plotSpec, -1, -1, plotContainer);\n           }});\n       })();    \n   </script>"
     },
     "execution_count": 7,
     "metadata": {},
     "output_type": "execute_result"
    }
   ],
   "source": [
    "plot(dataset) {\n",
    "    point {\n",
    "        x(timeMs.scaled(posContUnspec))\n",
    "        y(humidity.scaled(continuousPos(0.0 to 1.0)))\n",
    "        size(humidity.scaled(nonPosCont))\n",
    "        color(flowOnToColor)\n",
    "        symbol(flowOn.scaled(categorical()))\n",
    "    }\n",
    "}"
   ],
   "metadata": {
    "collapsed": false
   }
  },
  {
   "cell_type": "markdown",
   "source": [
    "### Scale parameters: axis and legend"
   ],
   "metadata": {
    "collapsed": false
   }
  },
  {
   "cell_type": "markdown",
   "source": [
    "The most important part of reading the charts is the *guides*. They are in fact essentially mini-charts of scales. The guides of positional scales are *axes*, and the guides of non-positional ones are *legends*. Every applied scale has its own default guide. You can customize it through use `with`"
   ],
   "metadata": {
    "collapsed": false
   }
  },
  {
   "cell_type": "code",
   "execution_count": 8,
   "outputs": [
    {
     "data": {
      "text/html": "   <div id=\"I5OM16\"></div>\n   <script type=\"text/javascript\" data-lets-plot-script=\"plot\">\n       (function() {\n           var plotSpec={\n\"mapping\":{\n},\n\"data\":{\n\"relativeHumidity\":[0.45,0.3,0.21,0.15,0.22,0.36,0.8],\n\"time, ms\":[12.0,87.0,130.0,149.0,200.0,221.0,250.0]\n},\n\"kind\":\"plot\",\n\"scales\":[{\n\"aesthetic\":\"x\",\n\"name\":\"Time from start of counting,\\n milliseconds\"\n},{\n\"aesthetic\":\"y\",\n\"breaks\":[0.0,0.3,0.6,0.9],\n\"name\":\"Relative humidity\",\n\"limits\":[0.0,1.0],\n\"labels\":[\"0%\",\"30%\",\"60%\",\"90%\"]\n},{\n\"aesthetic\":\"color\",\n\"scale_mapper_kind\":\"color_gradient\",\n\"name\":\"\",\n\"format\":\"e\",\n\"guide\":{\n\"name\":\"colorbar\",\n\"barwidth\":40.0,\n\"barheight\":190.0,\n\"nbin\":15\n}\n}],\n\"layers\":[{\n\"mapping\":{\n\"x\":\"time, ms\",\n\"y\":\"relativeHumidity\",\n\"color\":\"relativeHumidity\"\n},\n\"stat\":\"identity\",\n\"size\":12.0,\n\"position\":\"identity\",\n\"geom\":\"point\",\n\"data\":{\n}\n}]\n};\n           var plotContainer = document.getElementById(\"I5OM16\");\n           window.letsPlotCall(function() {{\n               LetsPlot.buildPlotFromProcessedSpecs(plotSpec, -1, -1, plotContainer);\n           }});\n       })();    \n   </script>"
     },
     "execution_count": 8,
     "metadata": {},
     "output_type": "execute_result"
    }
   ],
   "source": [
    "// TODO change `with` name/API\n",
    "// TODO 2 better breaks API\n",
    "plot(dataset) {\n",
    "    point {\n",
    "        x(timeMs).with {\n",
    "            axis.name = \"Time from start of counting,\\n milliseconds\"\n",
    "        }\n",
    "        y(humidity.scaled(continuousPos(0.0 to 1.0))).with {\n",
    "            axis {\n",
    "                name = \"Relative humidity\"\n",
    "                 breaks = listOf(0.0, 0.3, 0.6, 0.9)\n",
    "                 labels = listOf(\"0%\", \"30%\", \"60%\", \"90%\")\n",
    "            }\n",
    "         }\n",
    "        size(12.0)\n",
    "        color(humidity.scaled(continuous())).with {\n",
    "            legend {\n",
    "                name = \"\"\n",
    "                type = colorBar(40.0, 190.0, 15)\n",
    "                format = \"e\"\n",
    "            }\n",
    "        }\n",
    "    }\n",
    "}"
   ],
   "metadata": {
    "collapsed": false
   }
  },
  {
   "cell_type": "markdown",
   "source": [
    "## Special aes types"
   ],
   "metadata": {
    "collapsed": false
   }
  },
  {
   "cell_type": "markdown",
   "source": [
    "In addition to the standard types of aesthetic attributes, there are a few with special restrictions. For example, so-called \"sub-positional\" aesthetic attributes can be mapped, but only with a regular column pointer, not a scaled one (in fact, these aesthetic attributes are a sub-part of another one, and their mappings have the same scale as the \"parent\" aesthetic). Also, some aesthetics only support the setting, and can not be mapped."
   ],
   "metadata": {
    "collapsed": false
   }
  },
  {
   "cell_type": "code",
   "execution_count": 9,
   "outputs": [
    {
     "data": {
      "text/html": "   <div id=\"FuPU1Q\"></div>\n   <script type=\"text/javascript\" data-lets-plot-script=\"plot\">\n       (function() {\n           var plotSpec={\n\"mapping\":{\n},\n\"data\":{\n\"min\":[0.8,0.4,0.6],\n\"middle\":[1.5,2.4,1.6],\n\"max\":[3.1,4.4,2.6],\n\"lower\":[0.9,1.4,0.8],\n\"upper\":[1.9,3.4,1.7],\n\"x\":[\"a\",\"b\",\"c\"]\n},\n\"kind\":\"plot\",\n\"scales\":[{\n\"aesthetic\":\"x\"\n}],\n\"layers\":[{\n\"mapping\":{\n\"x\":\"x\",\n\"ymin\":\"min\",\n\"lower\":\"lower\",\n\"middle\":\"middle\",\n\"upper\":\"upper\",\n\"ymax\":\"max\"\n},\n\"stat\":\"identity\",\n\"position\":\"identity\",\n\"geom\":\"boxplot\",\n\"fatten\":4.5,\n\"data\":{\n}\n}]\n};\n           var plotContainer = document.getElementById(\"FuPU1Q\");\n           window.letsPlotCall(function() {{\n               LetsPlot.buildPlotFromProcessedSpecs(plotSpec, -1, -1, plotContainer);\n           }});\n       })();    \n   </script>"
     },
     "execution_count": 9,
     "metadata": {},
     "output_type": "execute_result"
    }
   ],
   "source": [
    "plot(\n",
    "    mapOf(\n",
    "        \"x\" to listOf(\"a\", \"b\", \"c\"),\n",
    "        \"min\" to listOf(0.8, 0.4, 0.6),\n",
    "        \"lower\" to listOf(0.9, 1.4, 0.8),\n",
    "        \"middle\" to listOf(1.5, 2.4, 1.6),\n",
    "        \"upper\" to listOf(1.9, 3.4, 1.7),\n",
    "        \"max\" to listOf(3.1, 4.4, 2.6),\n",
    "    )\n",
    ") {\n",
    "    boxplot {\n",
    "        x(\"x\"())\n",
    "        // sub-y aesthetics:\n",
    "        yMin(\"min\"())\n",
    "        lower(\"lower\"())\n",
    "        middle(\"middle\"())\n",
    "        upper(\"upper\"())\n",
    "        yMax(\"max\"())\n",
    "        // `fatten` can only be setted:\n",
    "        fatten(4.5)\n",
    "    }\n",
    "}"
   ],
   "metadata": {
    "collapsed": false
   }
  },
  {
   "cell_type": "markdown",
   "metadata": {},
   "source": [
    "# Statistics"
   ]
  },
  {
   "cell_type": "markdown",
   "source": [
    "Rather than using statistical pre-transformations of your dataset, you can calculate it inside the DSL. The \"stat\" family of functions is used for this purpose. These functions convert the original data into a new dataset with calculated statistics. The set of these statistics is defined by the function. Within a context, its statistics can be accessed through the `Stat` field .These statistics act as pointers to the columns in the new dataset. And you can do the same thing with them as with regular `ColumnPointer` : they can be mapped to aesthetics, scaled, used in tooltips, etc."
   ],
   "metadata": {
    "collapsed": false
   }
  },
  {
   "cell_type": "code",
   "execution_count": 10,
   "outputs": [],
   "source": [
    "import kotlin.random.Random\n",
    "\n",
    "val observations = List(1000) { Random.nextDouble() }\n",
    "val observationsDataset = mapOf(\n",
    "    \"observations\" to observations\n",
    ")\n",
    "val obs = columnPointer<Double>(\"observations\")"
   ],
   "metadata": {
    "collapsed": false
   }
  },
  {
   "cell_type": "code",
   "execution_count": 11,
   "outputs": [
    {
     "data": {
      "text/html": "   <div id=\"7q1qY3\"></div>\n   <script type=\"text/javascript\" data-lets-plot-script=\"plot\">\n       (function() {\n           var plotSpec={\n\"mapping\":{\n},\n\"data\":{\n},\n\"kind\":\"plot\",\n\"scales\":[{\n\"aesthetic\":\"x\"\n},{\n\"aesthetic\":\"y\",\n\"limits\":[0.0,100.0],\n\"trans\":\"reverse\"\n},{\n\"aesthetic\":\"x\"\n},{\n\"aesthetic\":\"y\"\n}],\n\"layers\":[{\n\"mapping\":{\n\"x\":\"..x..\",\n\"y\":\"..count..\"\n},\n\"stat\":\"identity\",\n\"data\":{\n\"..x..\":[-0.008183468587104725,0.045287186102406715,0.09875784079191816,0.15222849548142958,0.20569915017094104,0.2591698048604525,0.3126404595499639,0.36611111423947534,0.4195817689289868,0.47305242361849825,0.5265230783080097,0.5799937329975211,0.6334643876870325,0.686935042376544,0.7404056970660554,0.7938763517555669,0.8473470064450783,0.9008176611345897,0.9542883158241012,1.0077589705136127],\n\"..count..\":[14.0,52.0,54.0,60.0,58.0,59.0,68.0,52.0,62.0,49.0,56.0,43.0,39.0,59.0,41.0,54.0,65.0,46.0,53.0,16.0]\n},\n\"alpha\":0.5,\n\"position\":\"identity\",\n\"geom\":\"bar\",\n\"tooltips\":{\n\"tooltip_lines\":[\"count|@..count..\"],\n\"tooltip_formats\":[{\n\"field\":\"..count..\",\n\"format\":\"d\"\n}]\n}\n},{\n\"mapping\":{\n\"x\":\"..x..\",\n\"y\":\"..count..\"\n},\n\"stat\":\"identity\",\n\"data\":{\n\"..x..\":[-0.008183468587104725,0.045287186102406715,0.09875784079191816,0.15222849548142958,0.20569915017094104,0.2591698048604525,0.3126404595499639,0.36611111423947534,0.4195817689289868,0.47305242361849825,0.5265230783080097,0.5799937329975211,0.6334643876870325,0.686935042376544,0.7404056970660554,0.7938763517555669,0.8473470064450783,0.9008176611345897,0.9542883158241012,1.0077589705136127],\n\"..count..\":[14.0,52.0,54.0,60.0,58.0,59.0,68.0,52.0,62.0,49.0,56.0,43.0,39.0,59.0,41.0,54.0,65.0,46.0,53.0,16.0]\n},\n\"size\":2.5,\n\"color\":\"red\",\n\"position\":\"identity\",\n\"geom\":\"path\"\n}]\n};\n           var plotContainer = document.getElementById(\"7q1qY3\");\n           window.letsPlotCall(function() {{\n               LetsPlot.buildPlotFromProcessedSpecs(plotSpec, -1, -1, plotContainer);\n           }});\n       })();    \n   </script>"
     },
     "execution_count": 11,
     "metadata": {},
     "output_type": "execute_result"
    }
   ],
   "source": [
    "plot(observationsDataset) {\n",
    "    statBin(obs) {\n",
    "         bar {\n",
    "            // simple mapping\n",
    "            x(Stat.BINS)\n",
    "            // mapping with scale\n",
    "            y(Stat.COUNT.scaled(continuousPos(0 to 100, transform = Transformation.REVERSE)))\n",
    "\n",
    "            alpha(0.5)\n",
    "\n",
    "            // formatting of stat value format\n",
    "            tooltips(statFormats = mapOf(\n",
    "                Stat.COUNT to \"d\"\n",
    "            )) {\n",
    "                // line with the name of stat (i.e. \"count\") on the left side and its value on the right side\n",
    "                line(Stat.COUNT)\n",
    "             }\n",
    "         }\n",
    "\n",
    "         path {\n",
    "             x(Stat.BINS)\n",
    "             y(Stat.COUNT)\n",
    "\n",
    "             width(2.5)\n",
    "             color(Color.RED)\n",
    "         }\n",
    "    }\n",
    "}"
   ],
   "metadata": {
    "collapsed": false
   }
  },
  {
   "cell_type": "markdown",
   "source": [
    "In addition, for basic statistical charts there is a simpler API, which combines into one function the counting of statistics and the creation of a layer. For example, a histogram is nothing more than a counting of \"bin\" statistics and a bar chart that has bins values on X and count values on Y."
   ],
   "metadata": {
    "collapsed": false
   }
  },
  {
   "cell_type": "code",
   "execution_count": 12,
   "outputs": [
    {
     "data": {
      "text/html": "   <div id=\"GALFb0\"></div>\n   <script type=\"text/javascript\" data-lets-plot-script=\"plot\">\n       (function() {\n           var plotSpec={\n\"ggtitle\":{\n\"text\":\"`histogram`\"\n},\n\"mapping\":{\n},\n\"data\":{\n},\n\"kind\":\"plot\",\n\"scales\":[{\n\"aesthetic\":\"x\"\n},{\n\"aesthetic\":\"y\"\n}],\n\"layers\":[{\n\"mapping\":{\n\"x\":\"..x..\",\n\"y\":\"..count..\"\n},\n\"stat\":\"identity\",\n\"data\":{\n\"..x..\":[-0.008183468587104725,0.045287186102406715,0.09875784079191816,0.15222849548142958,0.20569915017094104,0.2591698048604525,0.3126404595499639,0.36611111423947534,0.4195817689289868,0.47305242361849825,0.5265230783080097,0.5799937329975211,0.6334643876870325,0.686935042376544,0.7404056970660554,0.7938763517555669,0.8473470064450783,0.9008176611345897,0.9542883158241012,1.0077589705136127],\n\"..count..\":[14.0,52.0,54.0,60.0,58.0,59.0,68.0,52.0,62.0,49.0,56.0,43.0,39.0,59.0,41.0,54.0,65.0,46.0,53.0,16.0]\n},\n\"position\":\"identity\",\n\"geom\":\"bar\"\n}]\n};\n           var plotContainer = document.getElementById(\"GALFb0\");\n           window.letsPlotCall(function() {{\n               LetsPlot.buildPlotFromProcessedSpecs(plotSpec, -1, -1, plotContainer);\n           }});\n       })();    \n   </script>"
     },
     "execution_count": 12,
     "metadata": {},
     "output_type": "execute_result"
    }
   ],
   "source": [
    "val histPlot = plot(observationsDataset) {\n",
    "    histogram(obs)\n",
    "\n",
    "    layout.title = \"`histogram`\"\n",
    "}\n",
    "histPlot"
   ],
   "metadata": {
    "collapsed": false
   }
  },
  {
   "cell_type": "markdown",
   "source": [
    "You can compare it to a bar chart with the calculation of bins stat:"
   ],
   "metadata": {
    "collapsed": false
   }
  },
  {
   "cell_type": "code",
   "execution_count": 13,
   "outputs": [
    {
     "data": {
      "text/html": "   <div id=\"v1W47C\"></div>\n   <script type=\"text/javascript\" data-lets-plot-script=\"plot\">\n       (function() {\n           var plotSpec={\n\"kind\":\"ggbunch\",\n\"items\":[{\n\"x\":0,\n\"width\":800,\n\"y\":0,\n\"feature_spec\":{\n\"ggtitle\":{\n\"text\":\"`histogram`\"\n},\n\"mapping\":{\n},\n\"data\":{\n},\n\"kind\":\"plot\",\n\"scales\":[{\n\"aesthetic\":\"x\"\n},{\n\"aesthetic\":\"y\"\n}],\n\"layers\":[{\n\"mapping\":{\n\"x\":\"..x..\",\n\"y\":\"..count..\"\n},\n\"stat\":\"identity\",\n\"data\":{\n\"..x..\":[-0.008183468587104725,0.045287186102406715,0.09875784079191816,0.15222849548142958,0.20569915017094104,0.2591698048604525,0.3126404595499639,0.36611111423947534,0.4195817689289868,0.47305242361849825,0.5265230783080097,0.5799937329975211,0.6334643876870325,0.686935042376544,0.7404056970660554,0.7938763517555669,0.8473470064450783,0.9008176611345897,0.9542883158241012,1.0077589705136127],\n\"..count..\":[14.0,52.0,54.0,60.0,58.0,59.0,68.0,52.0,62.0,49.0,56.0,43.0,39.0,59.0,41.0,54.0,65.0,46.0,53.0,16.0]\n},\n\"position\":\"identity\",\n\"geom\":\"bar\"\n}]\n},\n\"height\":533\n},{\n\"x\":800,\n\"width\":800,\n\"y\":0,\n\"feature_spec\":{\n\"ggtitle\":{\n\"text\":\"`statBin` + `bar`\"\n},\n\"mapping\":{\n},\n\"data\":{\n},\n\"kind\":\"plot\",\n\"scales\":[{\n\"aesthetic\":\"x\"\n},{\n\"aesthetic\":\"y\"\n}],\n\"layers\":[{\n\"mapping\":{\n\"x\":\"..x..\",\n\"y\":\"..count..\"\n},\n\"stat\":\"identity\",\n\"data\":{\n\"..x..\":[-0.008183468587104725,0.045287186102406715,0.09875784079191816,0.15222849548142958,0.20569915017094104,0.2591698048604525,0.3126404595499639,0.36611111423947534,0.4195817689289868,0.47305242361849825,0.5265230783080097,0.5799937329975211,0.6334643876870325,0.686935042376544,0.7404056970660554,0.7938763517555669,0.8473470064450783,0.9008176611345897,0.9542883158241012,1.0077589705136127],\n\"..count..\":[14.0,52.0,54.0,60.0,58.0,59.0,68.0,52.0,62.0,49.0,56.0,43.0,39.0,59.0,41.0,54.0,65.0,46.0,53.0,16.0]\n},\n\"position\":\"identity\",\n\"geom\":\"bar\"\n}]\n},\n\"height\":533\n}]\n};\n           var plotContainer = document.getElementById(\"v1W47C\");\n           window.letsPlotCall(function() {{\n               LetsPlot.buildPlotFromProcessedSpecs(plotSpec, -1, -1, plotContainer);\n           }});\n       })();    \n   </script>"
     },
     "execution_count": 13,
     "metadata": {},
     "output_type": "execute_result"
    }
   ],
   "source": [
    "val binBarPlot = plot(observationsDataset) {\n",
    "    statBin(obs) {\n",
    "        bar {\n",
    "            x(Stat.BINS)\n",
    "            y(Stat.COUNT)\n",
    "         }\n",
    "    }\n",
    "    layout.title = \"`statBin` + `bar`\"\n",
    "}\n",
    "\n",
    "plotGrid(listOf(histPlot, binBarPlot), 2, 800, 600)"
   ],
   "metadata": {
    "collapsed": false
   }
  },
  {
   "cell_type": "markdown",
   "source": [
    "`histogram` function also opens a context, in which you can create bindings for the aesthetic attributes of the bar. In addition, the \"stat-bin\" stats are defined in this context, allowing you to map them to aesthetics. Also, you can rewrite default mappings to coordinates (to display relative values instead of absolute ones, for example)."
   ],
   "metadata": {
    "collapsed": false
   }
  },
  {
   "cell_type": "code",
   "execution_count": 14,
   "outputs": [
    {
     "data": {
      "text/html": "   <div id=\"SbSebJ\"></div>\n   <script type=\"text/javascript\" data-lets-plot-script=\"plot\">\n       (function() {\n           var plotSpec={\n\"mapping\":{\n},\n\"data\":{\n},\n\"kind\":\"plot\",\n\"scales\":[{\n\"aesthetic\":\"x\"\n},{\n\"aesthetic\":\"y\"\n},{\n\"aesthetic\":\"fill\",\n\"scale_mapper_kind\":\"color_gradient\",\n\"high\":\"red\",\n\"low\":\"green\"\n}],\n\"layers\":[{\n\"mapping\":{\n\"x\":\"..x..\",\n\"y\":\"..density..\",\n\"fill\":\"..count..\"\n},\n\"stat\":\"identity\",\n\"data\":{\n\"..x..\":[-4.163336342344337E-17,0.04999999999999996,0.09999999999999996,0.14999999999999997,0.19999999999999996,0.24999999999999994,0.3,0.35,0.39999999999999997,0.44999999999999996,0.49999999999999994,0.55,0.6000000000000001,0.65,0.7000000000000001,0.75,0.8,0.8500000000000001,0.9,0.9500000000000001,1.0,1.05],\n\"..count..\":[17.0,51.0,51.0,55.0,59.0,53.0,58.0,61.0,50.0,49.0,44.0,54.0,34.0,40.0,62.0,36.0,50.0,64.0,43.0,44.0,25.0,0.0],\n\"..density..\":[0.37420525550297545,1.1226157665089262,1.1226157665089262,1.210664061921391,1.298712357333856,1.1666399142151587,1.2767002834807397,1.3427365050400883,1.1006036926558103,1.078591618802694,0.9685312495371129,1.1886519880682749,0.7484105110059509,0.8804829541246482,1.3647485788932046,0.7924346587121832,1.1006036926558103,1.408772726599437,0.9465191756839967,0.9685312495371129,0.5503018463279051,0.0]\n},\n\"color\":\"black\",\n\"size\":0.3,\n\"position\":\"identity\",\n\"geom\":\"bar\",\n\"tooltips\":{\n\"tooltip_lines\":[\"density|@..density..\"],\n\"tooltip_title\":\"@..x.. ± 0.025\"\n}\n}]\n};\n           var plotContainer = document.getElementById(\"SbSebJ\");\n           window.letsPlotCall(function() {{\n               LetsPlot.buildPlotFromProcessedSpecs(plotSpec, -1, -1, plotContainer);\n           }});\n       })();    \n   </script>"
     },
     "execution_count": 14,
     "metadata": {},
     "output_type": "execute_result"
    }
   ],
   "source": [
    "plot(observationsDataset) {\n",
    "    histogram(obs, Bins.byWidth(0.05), BinXPos.center(0.5)) {\n",
    "        y(Stat.DENSITY)\n",
    "\n",
    "        color(Stat.COUNT.scaled(continuous(rangeLimits = Color.GREEN to Color.RED)))\n",
    "\n",
    "        borderLine {\n",
    "            color(Color.BLACK)\n",
    "            width(0.3)\n",
    "        }\n",
    "\n",
    "        tooltips(title = \"${value(Stat.BINS)} ± 0.025\") {\n",
    "            line(Stat.DENSITY)\n",
    "         }\n",
    "    }\n",
    "}"
   ],
   "metadata": {
    "collapsed": false
   }
  },
  {
   "cell_type": "markdown",
   "source": [
    "Stats API works with `Iterable` as well:"
   ],
   "metadata": {
    "collapsed": false
   }
  },
  {
   "cell_type": "code",
   "execution_count": 15,
   "outputs": [
    {
     "data": {
      "text/html": "   <div id=\"YiDyNV\"></div>\n   <script type=\"text/javascript\" data-lets-plot-script=\"plot\">\n       (function() {\n           var plotSpec={\n\"kind\":\"ggbunch\",\n\"items\":[{\n\"x\":0,\n\"width\":800,\n\"y\":0,\n\"feature_spec\":{\n\"layers\":[{\n\"mapping\":{\n\"x\":\"..density..\",\n\"y\":\"..x..\"\n},\n\"stat\":\"identity\",\n\"data\":{\n\"..x..\":[-0.008183468587104725,0.045287186102406715,0.09875784079191816,0.15222849548142958,0.20569915017094104,0.2591698048604525,0.3126404595499639,0.36611111423947534,0.4195817689289868,0.47305242361849825,0.5265230783080097,0.5799937329975211,0.6334643876870325,0.686935042376544,0.7404056970660554,0.7938763517555669,0.8473470064450783,0.9008176611345897,0.9542883158241012,1.0077589705136127],\n\"..density..\":[0.28015366722147894,1.040570763965493,1.0805927164257043,1.2006585738063382,1.160636621346127,1.1806475975762325,1.3607463836471834,1.040570763965493,1.2406805262665495,0.9805378352751762,1.1206146688859158,0.8604719778945423,0.7804280729741199,1.1806475975762325,0.8204500254343312,1.0805927164257043,1.3007134549568664,0.9205049065848593,1.0605817401955988,0.3201756196816902]\n},\n\"position\":\"identity\",\n\"geom\":\"point\"\n}],\n\"mapping\":{\n},\n\"data\":{\n},\n\"kind\":\"plot\",\n\"scales\":[{\n\"aesthetic\":\"x\"\n},{\n\"aesthetic\":\"y\"\n}]\n},\n\"height\":533\n},{\n\"x\":800,\n\"width\":800,\n\"y\":0,\n\"feature_spec\":{\n\"layers\":[{\n\"mapping\":{\n\"x\":\"..x..\",\n\"y\":\"..count..\"\n},\n\"stat\":\"identity\",\n\"data\":{\n\"..x..\":[-0.008183468587104725,0.045287186102406715,0.09875784079191816,0.15222849548142958,0.20569915017094104,0.2591698048604525,0.3126404595499639,0.36611111423947534,0.4195817689289868,0.47305242361849825,0.5265230783080097,0.5799937329975211,0.6334643876870325,0.686935042376544,0.7404056970660554,0.7938763517555669,0.8473470064450783,0.9008176611345897,0.9542883158241012,1.0077589705136127],\n\"..count..\":[14.0,52.0,54.0,60.0,58.0,59.0,68.0,52.0,62.0,49.0,56.0,43.0,39.0,59.0,41.0,54.0,65.0,46.0,53.0,16.0]\n},\n\"position\":\"identity\",\n\"geom\":\"bar\"\n}],\n\"mapping\":{\n},\n\"data\":{\n},\n\"kind\":\"plot\",\n\"scales\":[{\n\"aesthetic\":\"x\"\n},{\n\"aesthetic\":\"y\"\n}]\n},\n\"height\":533\n}]\n};\n           var plotContainer = document.getElementById(\"YiDyNV\");\n           window.letsPlotCall(function() {{\n               LetsPlot.buildPlotFromProcessedSpecs(plotSpec, -1, -1, plotContainer);\n           }});\n       })();    \n   </script>"
     },
     "execution_count": 15,
     "metadata": {},
     "output_type": "execute_result"
    }
   ],
   "source": [
    "plotGrid(listOf(\n",
    "    plot {\n",
    "        statBin(observations) {\n",
    "            point {\n",
    "                x(Stat.DENSITY)\n",
    "                y(Stat.BINS)\n",
    "             }\n",
    "        }\n",
    "    },\n",
    "    plot {\n",
    "        histogram(observations)\n",
    "    }\n",
    "), 2, 800, 600)"
   ],
   "metadata": {
    "collapsed": false
   }
  },
  {
   "cell_type": "markdown",
   "source": [
    "# Series"
   ],
   "metadata": {
    "collapsed": false
   }
  },
  {
   "cell_type": "markdown",
   "source": [
    "In addition to the classic GoG-like approach, you can also use a more familiar approach, the so-called *series* approach (which is used in matplotlib, plotly and many other plotting libraries). That is, you can create plot by defining not layers, but series. Series are similar to layers, but unlike layers, data in a series can only be mapped on coordinates (non-position attributes can still be set as well). Every series has its own label. Under the hood, mappings are created from the set of labels of the series of this plot to those non-positional attributes that have been set within the series (note the limitation: settings for the same attributes must be made within the series!; TODO: autocomplete?)"
   ],
   "metadata": {
    "collapsed": false
   }
  },
  {
   "cell_type": "code",
   "execution_count": 16,
   "metadata": {
    "datalore": {
     "hide_input_from_viewers": false,
     "hide_output_from_viewers": false,
     "node_id": "3Ekdf597AHTedEALy7X5h9",
     "report_properties": {},
     "type": "CODE"
    }
   },
   "outputs": [],
   "source": [
    "import kotlin.random.Random\n",
    "\n",
    "val time = List(15) {it}\n",
    "val valueA = List(15) { Random.nextDouble() }\n",
    "val valueB = List(15) { Random.nextDouble() }\n",
    "\n",
    "//TODO\n",
    "val dataSeries = NamedData(mapOf(\n",
    "    \"time\" to time,\n",
    "    \"valueA\" to valueA,\n",
    "    \"valueB\" to valueB\n",
    "))\n",
    "\n",
    "val timeSrc = columnPointer<Int>(\"time\")\n",
    "val valASrc = columnPointer<Int>(\"valueA\")\n",
    "val valBSrc = columnPointer<Int>(\"valueB\")"
   ]
  },
  {
   "cell_type": "markdown",
   "source": [
    "Series-plot can be created by using corresponding functions. For example, `barPlot`:"
   ],
   "metadata": {
    "collapsed": false
   }
  },
  {
   "cell_type": "code",
   "execution_count": 17,
   "outputs": [
    {
     "data": {
      "text/html": "   <div id=\"2SljTc\"></div>\n   <script type=\"text/javascript\" data-lets-plot-script=\"plot\">\n       (function() {\n           var plotSpec={\n\"mapping\":{\n},\n\"data\":{\n},\n\"kind\":\"plot\",\n\"scales\":[{\n\"aesthetic\":\"x\"\n},{\n\"aesthetic\":\"y\"\n},{\n\"aesthetic\":\"color\",\n\"values\":[\"red\",\"orange\"],\n\"limits\":[\"A1\",\"B2+\"]\n},{\n\"aesthetic\":\"linetype\",\n\"values\":[2.0,1.0],\n\"limits\":[\"A1\",\"B2+\"]\n}],\n\"layers\":[{\n\"mapping\":{\n\"x\":\"x\",\n\"y\":\"y\",\n\"color\":\"@as_discrete@label\",\n\"linetype\":\"@as_discrete@label\"\n},\n\"stat\":\"identity\",\n\"data\":{\n\"@as_discrete@label\":[\"A1\",\"A1\",\"A1\",\"A1\",\"A1\",\"A1\",\"A1\",\"A1\",\"A1\",\"A1\",\"A1\",\"A1\",\"A1\",\"A1\",\"A1\",\"B2+\",\"B2+\",\"B2+\",\"B2+\",\"B2+\",\"B2+\",\"B2+\",\"B2+\",\"B2+\",\"B2+\",\"B2+\",\"B2+\",\"B2+\",\"B2+\",\"B2+\"],\n\"x\":[0.0,1.0,2.0,3.0,4.0,5.0,6.0,7.0,8.0,9.0,10.0,11.0,12.0,13.0,14.0,0.0,1.0,2.0,3.0,4.0,5.0,6.0,7.0,8.0,9.0,10.0,11.0,12.0,13.0,14.0],\n\"y\":[0.13510450298435706,0.47798582525632205,0.23209621484787024,0.2752013829360951,0.40038131460197013,0.12890346323145363,0.687012110890816,0.37870224976039224,0.2891936462032557,0.07582506044283177,0.21009779731814093,0.9530811284305637,0.9796455010272984,0.9391601340355485,0.39500154940017096,0.17672352634943655,0.19280261722181957,0.481702788520888,0.07738573430905404,0.6853284281379572,0.5401289014860534,0.21872173651959537,0.8794134989636082,0.2993664373642778,0.8836486326029955,0.5601811689583955,0.9368274763117764,0.14426758739596102,0.4833196094423543,0.3414273068001662]\n},\n\"position\":\"identity\",\n\"geom\":\"line\",\n\"data_meta\":{\n\"mapping_annotations\":[{\n\"aes\":\"color\",\n\"annotation\":\"as_discrete\",\n\"parameters\":{\n\"label\":\"label\"\n}\n},{\n\"aes\":\"linetype\",\n\"annotation\":\"as_discrete\",\n\"parameters\":{\n\"label\":\"label\"\n}\n}]\n}\n}]\n};\n           var plotContainer = document.getElementById(\"2SljTc\");\n           window.letsPlotCall(function() {{\n               LetsPlot.buildPlotFromProcessedSpecs(plotSpec, -1, -1, plotContainer);\n           }});\n       })();    \n   </script>"
     },
     "execution_count": 17,
     "metadata": {},
     "output_type": "execute_result"
    }
   ],
   "source": [
    "linePlot(dataSeries) {\n",
    "    x(timeSrc)\n",
    "    series(\"A1\") {\n",
    "        y(valASrc)\n",
    "        color(Color.RED)\n",
    "        type(LineType.DASHED)\n",
    "    }\n",
    "    series(\"B2+\") {\n",
    "        y(valBSrc)\n",
    "        color(Color.ORANGE)\n",
    "        type(LineType.SOLID)\n",
    "    }\n",
    "}"
   ],
   "metadata": {
    "collapsed": false
   }
  },
  {
   "cell_type": "markdown",
   "source": [
    "Or simply use `Iterable`:"
   ],
   "metadata": {
    "collapsed": false
   }
  },
  {
   "cell_type": "code",
   "execution_count": 18,
   "outputs": [
    {
     "data": {
      "text/html": "   <div id=\"7smf1p\"></div>\n   <script type=\"text/javascript\" data-lets-plot-script=\"plot\">\n       (function() {\n           var plotSpec={\n\"mapping\":{\n},\n\"data\":{\n},\n\"kind\":\"plot\",\n\"scales\":[{\n\"aesthetic\":\"x\"\n},{\n\"aesthetic\":\"y\"\n},{\n\"aesthetic\":\"fill\",\n\"values\":[\"red\",\"orange\"],\n\"limits\":[\"A1\",\"B2+\"]\n}],\n\"layers\":[{\n\"mapping\":{\n\"x\":\"x\",\n\"y\":\"y\",\n\"fill\":\"@as_discrete@label\"\n},\n\"stat\":\"identity\",\n\"data\":{\n\"@as_discrete@label\":[\"A1\",\"A1\",\"A1\",\"A1\",\"A1\",\"A1\",\"A1\",\"A1\",\"A1\",\"A1\",\"A1\",\"A1\",\"A1\",\"A1\",\"A1\",\"B2+\",\"B2+\",\"B2+\",\"B2+\",\"B2+\",\"B2+\",\"B2+\",\"B2+\",\"B2+\",\"B2+\",\"B2+\",\"B2+\",\"B2+\",\"B2+\",\"B2+\"],\n\"x\":[0.0,1.0,2.0,3.0,4.0,5.0,6.0,7.0,8.0,9.0,10.0,11.0,12.0,13.0,14.0,0.0,1.0,2.0,3.0,4.0,5.0,6.0,7.0,8.0,9.0,10.0,11.0,12.0,13.0,14.0],\n\"y\":[0.13510450298435706,0.47798582525632205,0.23209621484787024,0.2752013829360951,0.40038131460197013,0.12890346323145363,0.687012110890816,0.37870224976039224,0.2891936462032557,0.07582506044283177,0.21009779731814093,0.9530811284305637,0.9796455010272984,0.9391601340355485,0.39500154940017096,0.17672352634943655,0.19280261722181957,0.481702788520888,0.07738573430905404,0.6853284281379572,0.5401289014860534,0.21872173651959537,0.8794134989636082,0.2993664373642778,0.8836486326029955,0.5601811689583955,0.9368274763117764,0.14426758739596102,0.4833196094423543,0.3414273068001662]\n},\n\"width\":0.5,\n\"position\":{\n\"name\":\"dodge\",\n\"width\":0.8,\n\"kind\":\"pos\"\n},\n\"geom\":\"bar\",\n\"data_meta\":{\n\"mapping_annotations\":[{\n\"aes\":\"fill\",\n\"annotation\":\"as_discrete\",\n\"parameters\":{\n\"label\":\"label\"\n}\n}]\n}\n}]\n};\n           var plotContainer = document.getElementById(\"7smf1p\");\n           window.letsPlotCall(function() {{\n               LetsPlot.buildPlotFromProcessedSpecs(plotSpec, -1, -1, plotContainer);\n           }});\n       })();    \n   </script>"
     },
     "execution_count": 18,
     "metadata": {},
     "output_type": "execute_result"
    }
   ],
   "source": [
    "barPlot(position = Position.Dodge(0.8)) {\n",
    "    x(time)\n",
    "    // general setting for all series\n",
    "    width(0.5)\n",
    "    series(\"A1\") {\n",
    "        y(valueA)\n",
    "        color(Color.RED)\n",
    "    }\n",
    "    series(\"B2+\") {\n",
    "        y(valueB)\n",
    "        color(Color.ORANGE)\n",
    "    }\n",
    "}"
   ],
   "metadata": {
    "collapsed": false
   }
  },
  {
   "cell_type": "markdown",
   "source": [
    "Series plot can be created with DataFrame API:"
   ],
   "metadata": {
    "collapsed": false
   }
  },
  {
   "cell_type": "code",
   "execution_count": 19,
   "outputs": [],
   "source": [
    "val seriesDF = dataFrameOf(\n",
    "    \"time\" to time,\n",
    "    \"aVal\" to valueA,\n",
    "    \"bVal\" to valueB,\n",
    ")"
   ],
   "metadata": {
    "collapsed": false
   }
  },
  {
   "cell_type": "code",
   "execution_count": 20,
   "outputs": [
    {
     "data": {
      "text/html": "   <div id=\"9PrQFM\"></div>\n   <script type=\"text/javascript\" data-lets-plot-script=\"plot\">\n       (function() {\n           var plotSpec={\n\"mapping\":{\n},\n\"data\":{\n},\n\"kind\":\"plot\",\n\"scales\":[{\n\"aesthetic\":\"x\"\n},{\n\"aesthetic\":\"y\"\n},{\n\"aesthetic\":\"shape\",\n\"values\":[8.0,18.0],\n\"limits\":[\"A\",\"B\"]\n},{\n\"aesthetic\":\"color\",\n\"values\":[\"#ffe5b4\",\"blue\"],\n\"limits\":[\"A\",\"B\"]\n}],\n\"layers\":[{\n\"mapping\":{\n\"x\":\"x\",\n\"y\":\"y\",\n\"shape\":\"@as_discrete@label\",\n\"color\":\"@as_discrete@label\"\n},\n\"stat\":\"identity\",\n\"data\":{\n\"@as_discrete@label\":[\"A\",\"A\",\"A\",\"A\",\"A\",\"A\",\"A\",\"A\",\"A\",\"A\",\"A\",\"A\",\"A\",\"A\",\"A\",\"B\",\"B\",\"B\",\"B\",\"B\",\"B\",\"B\",\"B\",\"B\",\"B\",\"B\",\"B\",\"B\",\"B\",\"B\"],\n\"x\":[0.0,1.0,2.0,3.0,4.0,5.0,6.0,7.0,8.0,9.0,10.0,11.0,12.0,13.0,14.0,0.0,1.0,2.0,3.0,4.0,5.0,6.0,7.0,8.0,9.0,10.0,11.0,12.0,13.0,14.0],\n\"y\":[0.13510450298435706,0.47798582525632205,0.23209621484787024,0.2752013829360951,0.40038131460197013,0.12890346323145363,0.687012110890816,0.37870224976039224,0.2891936462032557,0.07582506044283177,0.21009779731814093,0.9530811284305637,0.9796455010272984,0.9391601340355485,0.39500154940017096,0.17672352634943655,0.19280261722181957,0.481702788520888,0.07738573430905404,0.6853284281379572,0.5401289014860534,0.21872173651959537,0.8794134989636082,0.2993664373642778,0.8836486326029955,0.5601811689583955,0.9368274763117764,0.14426758739596102,0.4833196094423543,0.3414273068001662]\n},\n\"size\":5.6,\n\"position\":\"identity\",\n\"geom\":\"point\",\n\"data_meta\":{\n\"mapping_annotations\":[{\n\"aes\":\"shape\",\n\"annotation\":\"as_discrete\",\n\"parameters\":{\n\"label\":\"label\"\n}\n},{\n\"aes\":\"color\",\n\"annotation\":\"as_discrete\",\n\"parameters\":{\n\"label\":\"label\"\n}\n}]\n}\n}]\n};\n           var plotContainer = document.getElementById(\"9PrQFM\");\n           window.letsPlotCall(function() {{\n               LetsPlot.buildPlotFromProcessedSpecs(plotSpec, -1, -1, plotContainer);\n           }});\n       })();    \n   </script>"
     },
     "execution_count": 20,
     "metadata": {},
     "output_type": "execute_result"
    }
   ],
   "source": [
    "seriesDF.create { pointPlot {\n",
    "   size(5.6)\n",
    "   series(\"A\") {\n",
    "       x(time)\n",
    "       y(aVal)\n",
    "\n",
    "       symbol(Symbol.ASTERIX)\n",
    "       color(Color.PEACH)\n",
    "   }\n",
    "   series(\"B\") {\n",
    "       x(time)\n",
    "       y(bVal)\n",
    "\n",
    "       symbol(Symbol.DIAMOND)\n",
    "       color(Color.BLUE)\n",
    "   }\n",
    "} }"
   ],
   "metadata": {
    "collapsed": false
   }
  },
  {
   "cell_type": "markdown",
   "source": [
    "# Themes"
   ],
   "metadata": {
    "collapsed": false
   }
  },
  {
   "cell_type": "markdown",
   "source": [
    "Themes allow you to customize all the graphical elements of the layout --- styles of lines, backgrounds, text, etc. You can create your own theme or use one of the prepared."
   ],
   "metadata": {
    "collapsed": false
   }
  },
  {
   "cell_type": "code",
   "execution_count": 21,
   "outputs": [
    {
     "data": {
      "text/html": "        <html>\n        <head>\n            <style type=\"text/css\">\n                :root {\n    --background: #fff;\n    --background-odd: #f5f5f5;\n    --background-hover: #d9edfd;\n    --header-text-color: #474747;\n    --text-color: #848484;\n    --text-color-dark: #000;\n    --text-color-medium: #737373;\n    --text-color-pale: #b3b3b3;\n    --inner-border-color: #aaa;\n    --bold-border-color: #000;\n    --link-color: #296eaa;\n    --link-color-pale: #296eaa;\n    --link-hover: #1a466c;\n}\n\n:root[theme=\"dark\"], :root [data-jp-theme-light=\"false\"], .dataframe_dark{\n    --background: #303030;\n    --background-odd: #3c3c3c;\n    --background-hover: #464646;\n    --header-text-color: #dddddd;\n    --text-color: #b3b3b3;\n    --text-color-dark: #dddddd;\n    --text-color-medium: #b2b2b2;\n    --text-color-pale: #737373;\n    --inner-border-color: #707070;\n    --bold-border-color: #777777;\n    --link-color: #008dc0;\n    --link-color-pale: #97e1fb;\n    --link-hover: #00688e;\n}\n\ntable.dataframe {\n    font-family: \"Helvetica Neue\", Helvetica, Arial, sans-serif;\n    font-size: 12px;\n    background-color: var(--background);\n    color: var(--text-color-dark);\n    border: none;\n    border-collapse: collapse;\n}\n\ntable.dataframe th, td {\n    padding: 6px;\n    border: 1px solid transparent;\n    text-align: left;\n}\n\ntable.dataframe th {\n    background-color: var(--background);\n    color: var(--header-text-color);\n}\n\ntable.dataframe td {\n    vertical-align: top;\n}\n\ntable.dataframe th.bottomBorder {\n    border-bottom-color: var(--bold-border-color);\n}\n\ntable.dataframe tbody > tr:nth-child(odd) {\n    background: var(--background-odd);\n}\n\ntable.dataframe tbody > tr:nth-child(even) {\n    background: var(--background);\n}\n\ntable.dataframe tbody > tr:hover {\n    background: var(--background-hover);\n}\n\ntable.dataframe a {\n    cursor: pointer;\n    color: var(--link-color);\n    text-decoration: none;\n}\n\ntable.dataframe tr:hover > td a {\n    color: var(--link-color-pale);\n}\n\ntable.dataframe a:hover {\n    color: var(--link-hover);\n    text-decoration: underline;\n}\n\ntable.dataframe img {\n    max-width: fit-content;\n}\n\ntable.dataframe th.complex {\n    background-color: var(--background);\n    border: 1px solid var(--background);\n}\n\ntable.dataframe .leftBorder {\n    border-left-color: var(--inner-border-color);\n}\n\ntable.dataframe .rightBorder {\n    border-right-color: var(--inner-border-color);\n}\n\ntable.dataframe .rightAlign {\n    text-align: right;\n}\n\ntable.dataframe .expanderSvg {\n    width: 8px;\n    height: 8px;\n    margin-right: 3px;\n}\n\ntable.dataframe .expander {\n    display: flex;\n    align-items: center;\n}\n\n/* formatting */\n\ntable.dataframe .null {\n    color: var(--text-color-pale);\n}\n\ntable.dataframe .structural {\n    color: var(--text-color-medium);\n    font-weight: bold;\n}\n\ntable.dataframe .dataFrameCaption {\n    font-weight: bold;\n}\n\ntable.dataframe .numbers {\n    color: var(--text-color-dark);\n}\n\ntable.dataframe td:hover .formatted .structural, .null {\n    color: var(--text-color-dark);\n}\n\ntable.dataframe tr:hover .formatted .structural, .null {\n    color: var(--text-color-dark);\n}\n\n\n\n\n            </style>\n        </head>\n        <body>\n            <div>\n                \n<table class=\"dataframe\" id=\"df_788529152\"></table>\n\n<p>DataFrame: rowsCount = 3, columnsCount = 12</p>\n            </div>\n        </body>\n        <script>\n            \n/*<!--*/\ncall_DataFrame(function() { DataFrame.addTable({ cols: [{ name: \"<span title=\\\"untitled: Int\\\">untitled</span>\", children: [], rightAlign: true, values: [\"<span class=\\\"formatted\\\" title=\\\"\\\"><span class=\\\"numbers\\\">1</span></span>\",\"<span class=\\\"formatted\\\" title=\\\"\\\"><span class=\\\"numbers\\\">2</span></span>\",\"<span class=\\\"formatted\\\" title=\\\"\\\"><span class=\\\"numbers\\\">3</span></span>\"] }, \n{ name: \"<span title=\\\"manufacturer: String\\\">manufacturer</span>\", children: [], rightAlign: false, values: [\"audi\",\"audi\",\"audi\"] }, \n{ name: \"<span title=\\\"model: String\\\">model</span>\", children: [], rightAlign: false, values: [\"a4\",\"a4\",\"a4\"] }, \n{ name: \"<span title=\\\"displ: Double\\\">displ</span>\", children: [], rightAlign: true, values: [\"<span class=\\\"formatted\\\" title=\\\"\\\"><span class=\\\"numbers\\\">1,8</span></span>\",\"<span class=\\\"formatted\\\" title=\\\"\\\"><span class=\\\"numbers\\\">1,8</span></span>\",\"<span class=\\\"formatted\\\" title=\\\"\\\"><span class=\\\"numbers\\\">2,0</span></span>\"] }, \n{ name: \"<span title=\\\"year: Int\\\">year</span>\", children: [], rightAlign: true, values: [\"<span class=\\\"formatted\\\" title=\\\"\\\"><span class=\\\"numbers\\\">1999</span></span>\",\"<span class=\\\"formatted\\\" title=\\\"\\\"><span class=\\\"numbers\\\">1999</span></span>\",\"<span class=\\\"formatted\\\" title=\\\"\\\"><span class=\\\"numbers\\\">2008</span></span>\"] }, \n{ name: \"<span title=\\\"cyl: Int\\\">cyl</span>\", children: [], rightAlign: true, values: [\"<span class=\\\"formatted\\\" title=\\\"\\\"><span class=\\\"numbers\\\">4</span></span>\",\"<span class=\\\"formatted\\\" title=\\\"\\\"><span class=\\\"numbers\\\">4</span></span>\",\"<span class=\\\"formatted\\\" title=\\\"\\\"><span class=\\\"numbers\\\">4</span></span>\"] }, \n{ name: \"<span title=\\\"trans: String\\\">trans</span>\", children: [], rightAlign: false, values: [\"auto(l5)\",\"manual(m5)\",\"manual(m6)\"] }, \n{ name: \"<span title=\\\"drv: String\\\">drv</span>\", children: [], rightAlign: false, values: [\"f\",\"f\",\"f\"] }, \n{ name: \"<span title=\\\"cty: Int\\\">cty</span>\", children: [], rightAlign: true, values: [\"<span class=\\\"formatted\\\" title=\\\"\\\"><span class=\\\"numbers\\\">18</span></span>\",\"<span class=\\\"formatted\\\" title=\\\"\\\"><span class=\\\"numbers\\\">21</span></span>\",\"<span class=\\\"formatted\\\" title=\\\"\\\"><span class=\\\"numbers\\\">20</span></span>\"] }, \n{ name: \"<span title=\\\"hwy: Int\\\">hwy</span>\", children: [], rightAlign: true, values: [\"<span class=\\\"formatted\\\" title=\\\"\\\"><span class=\\\"numbers\\\">29</span></span>\",\"<span class=\\\"formatted\\\" title=\\\"\\\"><span class=\\\"numbers\\\">29</span></span>\",\"<span class=\\\"formatted\\\" title=\\\"\\\"><span class=\\\"numbers\\\">31</span></span>\"] }, \n{ name: \"<span title=\\\"fl: String\\\">fl</span>\", children: [], rightAlign: false, values: [\"p\",\"p\",\"p\"] }, \n{ name: \"<span title=\\\"class: String\\\">class</span>\", children: [], rightAlign: false, values: [\"compact\",\"compact\",\"compact\"] }, \n], id: 788529152, rootId: 788529152, totalRows: 3 } ) });\n/*-->*/\n\ncall_DataFrame(function() { DataFrame.renderTable(788529152) });\n\n\n        </script>\n        </html>"
     },
     "execution_count": 21,
     "metadata": {},
     "output_type": "execute_result"
    }
   ],
   "source": [
    "val mpgDF = DataFrame.readCSV(\"https://raw.githubusercontent.com/JetBrains/lets-plot-kotlin/master/docs/examples/data/mpg.csv\")\n",
    "mpgDF.head(3)"
   ],
   "metadata": {
    "collapsed": false
   }
  },
  {
   "cell_type": "markdown",
   "source": [
    "To apply theme, just use `theme()` method of layout:"
   ],
   "metadata": {
    "collapsed": false
   }
  },
  {
   "cell_type": "code",
   "execution_count": 22,
   "outputs": [
    {
     "data": {
      "text/html": "   <div id=\"SEBwR9\"></div>\n   <script type=\"text/javascript\" data-lets-plot-script=\"plot\">\n       (function() {\n           var plotSpec={\n\"mapping\":{\n},\n\"data\":{\n\"cty\":[18.0,21.0,20.0,21.0,16.0,18.0,18.0,18.0,16.0,20.0,19.0,15.0,17.0,17.0,15.0,15.0,17.0,16.0,14.0,11.0,14.0,13.0,12.0,16.0,15.0,16.0,15.0,15.0,14.0,11.0,11.0,14.0,19.0,22.0,18.0,18.0,17.0,18.0,17.0,16.0,16.0,17.0,17.0,11.0,15.0,15.0,16.0,16.0,15.0,14.0,13.0,14.0,14.0,14.0,9.0,11.0,11.0,13.0,13.0,9.0,13.0,11.0,13.0,11.0,12.0,9.0,13.0,13.0,12.0,9.0,11.0,11.0,13.0,11.0,11.0,11.0,12.0,14.0,15.0,14.0,13.0,13.0,13.0,14.0,14.0,13.0,13.0,13.0,11.0,13.0,18.0,18.0,17.0,16.0,15.0,15.0,15.0,15.0,14.0,28.0,24.0,25.0,23.0,24.0,26.0,25.0,24.0,21.0,18.0,18.0,21.0,21.0,18.0,18.0,19.0,19.0,19.0,20.0,20.0,17.0,16.0,17.0,17.0,15.0,15.0,14.0,9.0,14.0,13.0,11.0,11.0,12.0,12.0,11.0,11.0,11.0,12.0,14.0,13.0,13.0,13.0,21.0,19.0,23.0,23.0,19.0,19.0,18.0,19.0,19.0,14.0,15.0,14.0,12.0,18.0,16.0,17.0,18.0,16.0,18.0,18.0,20.0,19.0,20.0,18.0,21.0,19.0,19.0,19.0,20.0,20.0,19.0,20.0,15.0,16.0,15.0,15.0,16.0,14.0,21.0,21.0,21.0,21.0,18.0,18.0,19.0,21.0,21.0,21.0,22.0,18.0,18.0,18.0,24.0,24.0,26.0,28.0,26.0,11.0,13.0,15.0,16.0,17.0,15.0,15.0,15.0,16.0,21.0,19.0,21.0,22.0,17.0,33.0,21.0,19.0,22.0,21.0,21.0,21.0,16.0,17.0,35.0,29.0,21.0,19.0,20.0,20.0,21.0,18.0,19.0,21.0,16.0,18.0,17.0],\n\"hwy\":[29.0,29.0,31.0,30.0,26.0,26.0,27.0,26.0,25.0,28.0,27.0,25.0,25.0,25.0,25.0,24.0,25.0,23.0,20.0,15.0,20.0,17.0,17.0,26.0,23.0,26.0,25.0,24.0,19.0,14.0,15.0,17.0,27.0,30.0,26.0,29.0,26.0,24.0,24.0,22.0,22.0,24.0,24.0,17.0,22.0,21.0,23.0,23.0,19.0,18.0,17.0,17.0,19.0,19.0,12.0,17.0,15.0,17.0,17.0,12.0,17.0,16.0,18.0,15.0,16.0,12.0,17.0,17.0,16.0,12.0,15.0,16.0,17.0,15.0,17.0,17.0,18.0,17.0,19.0,17.0,19.0,19.0,17.0,17.0,17.0,16.0,16.0,17.0,15.0,17.0,26.0,25.0,26.0,24.0,21.0,22.0,23.0,22.0,20.0,33.0,32.0,32.0,29.0,32.0,34.0,36.0,36.0,29.0,26.0,27.0,30.0,31.0,26.0,26.0,28.0,26.0,29.0,28.0,27.0,24.0,24.0,24.0,22.0,19.0,20.0,17.0,12.0,19.0,18.0,14.0,15.0,18.0,18.0,15.0,17.0,16.0,18.0,17.0,19.0,19.0,17.0,29.0,27.0,31.0,32.0,27.0,26.0,26.0,25.0,25.0,17.0,17.0,20.0,18.0,26.0,26.0,27.0,28.0,25.0,25.0,24.0,27.0,25.0,26.0,23.0,26.0,26.0,26.0,26.0,25.0,27.0,25.0,27.0,20.0,20.0,19.0,17.0,20.0,17.0,29.0,27.0,31.0,31.0,26.0,26.0,28.0,27.0,29.0,31.0,31.0,26.0,26.0,27.0,30.0,33.0,35.0,37.0,35.0,15.0,18.0,20.0,20.0,22.0,17.0,19.0,18.0,20.0,29.0,26.0,29.0,29.0,24.0,44.0,29.0,26.0,29.0,29.0,29.0,29.0,23.0,24.0,44.0,41.0,29.0,26.0,28.0,29.0,29.0,29.0,28.0,29.0,26.0,26.0,26.0]\n},\n\"kind\":\"plot\",\n\"scales\":[{\n\"aesthetic\":\"x\"\n},{\n\"aesthetic\":\"y\"\n}],\n\"layers\":[{\n\"mapping\":{\n\"x\":\"cty\",\n\"y\":\"hwy\"\n},\n\"stat\":\"identity\",\n\"position\":\"identity\",\n\"geom\":\"point\",\n\"data\":{\n}\n}],\n\"theme\":{\n\"name\":\"classic\",\n\"axis_ontop\":false,\n\"axis_ontop_y\":false,\n\"axis_ontop_x\":false\n}\n};\n           var plotContainer = document.getElementById(\"SEBwR9\");\n           window.letsPlotCall(function() {{\n               LetsPlot.buildPlotFromProcessedSpecs(plotSpec, -1, -1, plotContainer);\n           }});\n       })();    \n   </script>"
     },
     "execution_count": 22,
     "metadata": {},
     "output_type": "execute_result"
    }
   ],
   "source": [
    "mpgDF.create { plot {\n",
    "    point {\n",
    "        x(cty)\n",
    "        y(hwy)\n",
    "    }\n",
    "    layout.theme(Theme.Classic)\n",
    "} }"
   ],
   "metadata": {
    "collapsed": false
   }
  },
  {
   "cell_type": "code",
   "execution_count": 23,
   "outputs": [],
   "source": [
    "import org.jetbrains.kotlinx.ggdsl.ir.Plot\n",
    "fun plotWithTheme(theme: Theme? = null, title: String? = null):Plot {\n",
    "    return mpgDF.create { plot {\n",
    "        point {\n",
    "            x(cty)\n",
    "            y(hwy)\n",
    "        }\n",
    "        layout {\n",
    "            theme?.let {\n",
    "                theme(it)\n",
    "            }\n",
    "            this.title = title\n",
    "        }\n",
    "    } }\n",
    "}"
   ],
   "metadata": {
    "collapsed": false
   }
  },
  {
   "cell_type": "code",
   "execution_count": 24,
   "outputs": [
    {
     "data": {
      "text/html": "   <div id=\"6cElns\"></div>\n   <script type=\"text/javascript\" data-lets-plot-script=\"plot\">\n       (function() {\n           var plotSpec={\n\"kind\":\"ggbunch\",\n\"items\":[{\n\"x\":0,\n\"width\":600,\n\"y\":0,\n\"feature_spec\":{\n\"ggtitle\":{\n\"text\":\"\\\"classic\\\" theme\"\n},\n\"mapping\":{\n},\n\"data\":{\n\"cty\":[18.0,21.0,20.0,21.0,16.0,18.0,18.0,18.0,16.0,20.0,19.0,15.0,17.0,17.0,15.0,15.0,17.0,16.0,14.0,11.0,14.0,13.0,12.0,16.0,15.0,16.0,15.0,15.0,14.0,11.0,11.0,14.0,19.0,22.0,18.0,18.0,17.0,18.0,17.0,16.0,16.0,17.0,17.0,11.0,15.0,15.0,16.0,16.0,15.0,14.0,13.0,14.0,14.0,14.0,9.0,11.0,11.0,13.0,13.0,9.0,13.0,11.0,13.0,11.0,12.0,9.0,13.0,13.0,12.0,9.0,11.0,11.0,13.0,11.0,11.0,11.0,12.0,14.0,15.0,14.0,13.0,13.0,13.0,14.0,14.0,13.0,13.0,13.0,11.0,13.0,18.0,18.0,17.0,16.0,15.0,15.0,15.0,15.0,14.0,28.0,24.0,25.0,23.0,24.0,26.0,25.0,24.0,21.0,18.0,18.0,21.0,21.0,18.0,18.0,19.0,19.0,19.0,20.0,20.0,17.0,16.0,17.0,17.0,15.0,15.0,14.0,9.0,14.0,13.0,11.0,11.0,12.0,12.0,11.0,11.0,11.0,12.0,14.0,13.0,13.0,13.0,21.0,19.0,23.0,23.0,19.0,19.0,18.0,19.0,19.0,14.0,15.0,14.0,12.0,18.0,16.0,17.0,18.0,16.0,18.0,18.0,20.0,19.0,20.0,18.0,21.0,19.0,19.0,19.0,20.0,20.0,19.0,20.0,15.0,16.0,15.0,15.0,16.0,14.0,21.0,21.0,21.0,21.0,18.0,18.0,19.0,21.0,21.0,21.0,22.0,18.0,18.0,18.0,24.0,24.0,26.0,28.0,26.0,11.0,13.0,15.0,16.0,17.0,15.0,15.0,15.0,16.0,21.0,19.0,21.0,22.0,17.0,33.0,21.0,19.0,22.0,21.0,21.0,21.0,16.0,17.0,35.0,29.0,21.0,19.0,20.0,20.0,21.0,18.0,19.0,21.0,16.0,18.0,17.0],\n\"hwy\":[29.0,29.0,31.0,30.0,26.0,26.0,27.0,26.0,25.0,28.0,27.0,25.0,25.0,25.0,25.0,24.0,25.0,23.0,20.0,15.0,20.0,17.0,17.0,26.0,23.0,26.0,25.0,24.0,19.0,14.0,15.0,17.0,27.0,30.0,26.0,29.0,26.0,24.0,24.0,22.0,22.0,24.0,24.0,17.0,22.0,21.0,23.0,23.0,19.0,18.0,17.0,17.0,19.0,19.0,12.0,17.0,15.0,17.0,17.0,12.0,17.0,16.0,18.0,15.0,16.0,12.0,17.0,17.0,16.0,12.0,15.0,16.0,17.0,15.0,17.0,17.0,18.0,17.0,19.0,17.0,19.0,19.0,17.0,17.0,17.0,16.0,16.0,17.0,15.0,17.0,26.0,25.0,26.0,24.0,21.0,22.0,23.0,22.0,20.0,33.0,32.0,32.0,29.0,32.0,34.0,36.0,36.0,29.0,26.0,27.0,30.0,31.0,26.0,26.0,28.0,26.0,29.0,28.0,27.0,24.0,24.0,24.0,22.0,19.0,20.0,17.0,12.0,19.0,18.0,14.0,15.0,18.0,18.0,15.0,17.0,16.0,18.0,17.0,19.0,19.0,17.0,29.0,27.0,31.0,32.0,27.0,26.0,26.0,25.0,25.0,17.0,17.0,20.0,18.0,26.0,26.0,27.0,28.0,25.0,25.0,24.0,27.0,25.0,26.0,23.0,26.0,26.0,26.0,26.0,25.0,27.0,25.0,27.0,20.0,20.0,19.0,17.0,20.0,17.0,29.0,27.0,31.0,31.0,26.0,26.0,28.0,27.0,29.0,31.0,31.0,26.0,26.0,27.0,30.0,33.0,35.0,37.0,35.0,15.0,18.0,20.0,20.0,22.0,17.0,19.0,18.0,20.0,29.0,26.0,29.0,29.0,24.0,44.0,29.0,26.0,29.0,29.0,29.0,29.0,23.0,24.0,44.0,41.0,29.0,26.0,28.0,29.0,29.0,29.0,28.0,29.0,26.0,26.0,26.0]\n},\n\"kind\":\"plot\",\n\"scales\":[{\n\"aesthetic\":\"x\"\n},{\n\"aesthetic\":\"y\"\n}],\n\"layers\":[{\n\"mapping\":{\n\"x\":\"cty\",\n\"y\":\"hwy\"\n},\n\"stat\":\"identity\",\n\"position\":\"identity\",\n\"geom\":\"point\",\n\"data\":{\n}\n}],\n\"theme\":{\n\"name\":\"classic\",\n\"axis_ontop\":false,\n\"axis_ontop_y\":false,\n\"axis_ontop_x\":false\n}\n},\n\"height\":400\n},{\n\"x\":600,\n\"width\":600,\n\"y\":0,\n\"feature_spec\":{\n\"ggtitle\":{\n\"text\":\"\\\"grey\\\" theme\"\n},\n\"mapping\":{\n},\n\"data\":{\n\"cty\":[18.0,21.0,20.0,21.0,16.0,18.0,18.0,18.0,16.0,20.0,19.0,15.0,17.0,17.0,15.0,15.0,17.0,16.0,14.0,11.0,14.0,13.0,12.0,16.0,15.0,16.0,15.0,15.0,14.0,11.0,11.0,14.0,19.0,22.0,18.0,18.0,17.0,18.0,17.0,16.0,16.0,17.0,17.0,11.0,15.0,15.0,16.0,16.0,15.0,14.0,13.0,14.0,14.0,14.0,9.0,11.0,11.0,13.0,13.0,9.0,13.0,11.0,13.0,11.0,12.0,9.0,13.0,13.0,12.0,9.0,11.0,11.0,13.0,11.0,11.0,11.0,12.0,14.0,15.0,14.0,13.0,13.0,13.0,14.0,14.0,13.0,13.0,13.0,11.0,13.0,18.0,18.0,17.0,16.0,15.0,15.0,15.0,15.0,14.0,28.0,24.0,25.0,23.0,24.0,26.0,25.0,24.0,21.0,18.0,18.0,21.0,21.0,18.0,18.0,19.0,19.0,19.0,20.0,20.0,17.0,16.0,17.0,17.0,15.0,15.0,14.0,9.0,14.0,13.0,11.0,11.0,12.0,12.0,11.0,11.0,11.0,12.0,14.0,13.0,13.0,13.0,21.0,19.0,23.0,23.0,19.0,19.0,18.0,19.0,19.0,14.0,15.0,14.0,12.0,18.0,16.0,17.0,18.0,16.0,18.0,18.0,20.0,19.0,20.0,18.0,21.0,19.0,19.0,19.0,20.0,20.0,19.0,20.0,15.0,16.0,15.0,15.0,16.0,14.0,21.0,21.0,21.0,21.0,18.0,18.0,19.0,21.0,21.0,21.0,22.0,18.0,18.0,18.0,24.0,24.0,26.0,28.0,26.0,11.0,13.0,15.0,16.0,17.0,15.0,15.0,15.0,16.0,21.0,19.0,21.0,22.0,17.0,33.0,21.0,19.0,22.0,21.0,21.0,21.0,16.0,17.0,35.0,29.0,21.0,19.0,20.0,20.0,21.0,18.0,19.0,21.0,16.0,18.0,17.0],\n\"hwy\":[29.0,29.0,31.0,30.0,26.0,26.0,27.0,26.0,25.0,28.0,27.0,25.0,25.0,25.0,25.0,24.0,25.0,23.0,20.0,15.0,20.0,17.0,17.0,26.0,23.0,26.0,25.0,24.0,19.0,14.0,15.0,17.0,27.0,30.0,26.0,29.0,26.0,24.0,24.0,22.0,22.0,24.0,24.0,17.0,22.0,21.0,23.0,23.0,19.0,18.0,17.0,17.0,19.0,19.0,12.0,17.0,15.0,17.0,17.0,12.0,17.0,16.0,18.0,15.0,16.0,12.0,17.0,17.0,16.0,12.0,15.0,16.0,17.0,15.0,17.0,17.0,18.0,17.0,19.0,17.0,19.0,19.0,17.0,17.0,17.0,16.0,16.0,17.0,15.0,17.0,26.0,25.0,26.0,24.0,21.0,22.0,23.0,22.0,20.0,33.0,32.0,32.0,29.0,32.0,34.0,36.0,36.0,29.0,26.0,27.0,30.0,31.0,26.0,26.0,28.0,26.0,29.0,28.0,27.0,24.0,24.0,24.0,22.0,19.0,20.0,17.0,12.0,19.0,18.0,14.0,15.0,18.0,18.0,15.0,17.0,16.0,18.0,17.0,19.0,19.0,17.0,29.0,27.0,31.0,32.0,27.0,26.0,26.0,25.0,25.0,17.0,17.0,20.0,18.0,26.0,26.0,27.0,28.0,25.0,25.0,24.0,27.0,25.0,26.0,23.0,26.0,26.0,26.0,26.0,25.0,27.0,25.0,27.0,20.0,20.0,19.0,17.0,20.0,17.0,29.0,27.0,31.0,31.0,26.0,26.0,28.0,27.0,29.0,31.0,31.0,26.0,26.0,27.0,30.0,33.0,35.0,37.0,35.0,15.0,18.0,20.0,20.0,22.0,17.0,19.0,18.0,20.0,29.0,26.0,29.0,29.0,24.0,44.0,29.0,26.0,29.0,29.0,29.0,29.0,23.0,24.0,44.0,41.0,29.0,26.0,28.0,29.0,29.0,29.0,28.0,29.0,26.0,26.0,26.0]\n},\n\"kind\":\"plot\",\n\"scales\":[{\n\"aesthetic\":\"x\"\n},{\n\"aesthetic\":\"y\"\n}],\n\"layers\":[{\n\"mapping\":{\n\"x\":\"cty\",\n\"y\":\"hwy\"\n},\n\"stat\":\"identity\",\n\"position\":\"identity\",\n\"geom\":\"point\",\n\"data\":{\n}\n}],\n\"theme\":{\n\"name\":\"grey\",\n\"axis_ontop\":false,\n\"axis_ontop_y\":false,\n\"axis_ontop_x\":false\n}\n},\n\"height\":400\n},{\n\"x\":0,\n\"width\":600,\n\"y\":450,\n\"feature_spec\":{\n\"ggtitle\":{\n\"text\":\"\\\"light\\\" theme\"\n},\n\"mapping\":{\n},\n\"data\":{\n\"cty\":[18.0,21.0,20.0,21.0,16.0,18.0,18.0,18.0,16.0,20.0,19.0,15.0,17.0,17.0,15.0,15.0,17.0,16.0,14.0,11.0,14.0,13.0,12.0,16.0,15.0,16.0,15.0,15.0,14.0,11.0,11.0,14.0,19.0,22.0,18.0,18.0,17.0,18.0,17.0,16.0,16.0,17.0,17.0,11.0,15.0,15.0,16.0,16.0,15.0,14.0,13.0,14.0,14.0,14.0,9.0,11.0,11.0,13.0,13.0,9.0,13.0,11.0,13.0,11.0,12.0,9.0,13.0,13.0,12.0,9.0,11.0,11.0,13.0,11.0,11.0,11.0,12.0,14.0,15.0,14.0,13.0,13.0,13.0,14.0,14.0,13.0,13.0,13.0,11.0,13.0,18.0,18.0,17.0,16.0,15.0,15.0,15.0,15.0,14.0,28.0,24.0,25.0,23.0,24.0,26.0,25.0,24.0,21.0,18.0,18.0,21.0,21.0,18.0,18.0,19.0,19.0,19.0,20.0,20.0,17.0,16.0,17.0,17.0,15.0,15.0,14.0,9.0,14.0,13.0,11.0,11.0,12.0,12.0,11.0,11.0,11.0,12.0,14.0,13.0,13.0,13.0,21.0,19.0,23.0,23.0,19.0,19.0,18.0,19.0,19.0,14.0,15.0,14.0,12.0,18.0,16.0,17.0,18.0,16.0,18.0,18.0,20.0,19.0,20.0,18.0,21.0,19.0,19.0,19.0,20.0,20.0,19.0,20.0,15.0,16.0,15.0,15.0,16.0,14.0,21.0,21.0,21.0,21.0,18.0,18.0,19.0,21.0,21.0,21.0,22.0,18.0,18.0,18.0,24.0,24.0,26.0,28.0,26.0,11.0,13.0,15.0,16.0,17.0,15.0,15.0,15.0,16.0,21.0,19.0,21.0,22.0,17.0,33.0,21.0,19.0,22.0,21.0,21.0,21.0,16.0,17.0,35.0,29.0,21.0,19.0,20.0,20.0,21.0,18.0,19.0,21.0,16.0,18.0,17.0],\n\"hwy\":[29.0,29.0,31.0,30.0,26.0,26.0,27.0,26.0,25.0,28.0,27.0,25.0,25.0,25.0,25.0,24.0,25.0,23.0,20.0,15.0,20.0,17.0,17.0,26.0,23.0,26.0,25.0,24.0,19.0,14.0,15.0,17.0,27.0,30.0,26.0,29.0,26.0,24.0,24.0,22.0,22.0,24.0,24.0,17.0,22.0,21.0,23.0,23.0,19.0,18.0,17.0,17.0,19.0,19.0,12.0,17.0,15.0,17.0,17.0,12.0,17.0,16.0,18.0,15.0,16.0,12.0,17.0,17.0,16.0,12.0,15.0,16.0,17.0,15.0,17.0,17.0,18.0,17.0,19.0,17.0,19.0,19.0,17.0,17.0,17.0,16.0,16.0,17.0,15.0,17.0,26.0,25.0,26.0,24.0,21.0,22.0,23.0,22.0,20.0,33.0,32.0,32.0,29.0,32.0,34.0,36.0,36.0,29.0,26.0,27.0,30.0,31.0,26.0,26.0,28.0,26.0,29.0,28.0,27.0,24.0,24.0,24.0,22.0,19.0,20.0,17.0,12.0,19.0,18.0,14.0,15.0,18.0,18.0,15.0,17.0,16.0,18.0,17.0,19.0,19.0,17.0,29.0,27.0,31.0,32.0,27.0,26.0,26.0,25.0,25.0,17.0,17.0,20.0,18.0,26.0,26.0,27.0,28.0,25.0,25.0,24.0,27.0,25.0,26.0,23.0,26.0,26.0,26.0,26.0,25.0,27.0,25.0,27.0,20.0,20.0,19.0,17.0,20.0,17.0,29.0,27.0,31.0,31.0,26.0,26.0,28.0,27.0,29.0,31.0,31.0,26.0,26.0,27.0,30.0,33.0,35.0,37.0,35.0,15.0,18.0,20.0,20.0,22.0,17.0,19.0,18.0,20.0,29.0,26.0,29.0,29.0,24.0,44.0,29.0,26.0,29.0,29.0,29.0,29.0,23.0,24.0,44.0,41.0,29.0,26.0,28.0,29.0,29.0,29.0,28.0,29.0,26.0,26.0,26.0]\n},\n\"kind\":\"plot\",\n\"scales\":[{\n\"aesthetic\":\"x\"\n},{\n\"aesthetic\":\"y\"\n}],\n\"layers\":[{\n\"mapping\":{\n\"x\":\"cty\",\n\"y\":\"hwy\"\n},\n\"stat\":\"identity\",\n\"position\":\"identity\",\n\"geom\":\"point\",\n\"data\":{\n}\n}],\n\"theme\":{\n\"name\":\"light\",\n\"axis_ontop\":false,\n\"axis_ontop_y\":false,\n\"axis_ontop_x\":false\n}\n},\n\"height\":400\n},{\n\"x\":600,\n\"width\":600,\n\"y\":450,\n\"feature_spec\":{\n\"ggtitle\":{\n\"text\":\"\\\"minimal\\\" theme\"\n},\n\"mapping\":{\n},\n\"data\":{\n\"cty\":[18.0,21.0,20.0,21.0,16.0,18.0,18.0,18.0,16.0,20.0,19.0,15.0,17.0,17.0,15.0,15.0,17.0,16.0,14.0,11.0,14.0,13.0,12.0,16.0,15.0,16.0,15.0,15.0,14.0,11.0,11.0,14.0,19.0,22.0,18.0,18.0,17.0,18.0,17.0,16.0,16.0,17.0,17.0,11.0,15.0,15.0,16.0,16.0,15.0,14.0,13.0,14.0,14.0,14.0,9.0,11.0,11.0,13.0,13.0,9.0,13.0,11.0,13.0,11.0,12.0,9.0,13.0,13.0,12.0,9.0,11.0,11.0,13.0,11.0,11.0,11.0,12.0,14.0,15.0,14.0,13.0,13.0,13.0,14.0,14.0,13.0,13.0,13.0,11.0,13.0,18.0,18.0,17.0,16.0,15.0,15.0,15.0,15.0,14.0,28.0,24.0,25.0,23.0,24.0,26.0,25.0,24.0,21.0,18.0,18.0,21.0,21.0,18.0,18.0,19.0,19.0,19.0,20.0,20.0,17.0,16.0,17.0,17.0,15.0,15.0,14.0,9.0,14.0,13.0,11.0,11.0,12.0,12.0,11.0,11.0,11.0,12.0,14.0,13.0,13.0,13.0,21.0,19.0,23.0,23.0,19.0,19.0,18.0,19.0,19.0,14.0,15.0,14.0,12.0,18.0,16.0,17.0,18.0,16.0,18.0,18.0,20.0,19.0,20.0,18.0,21.0,19.0,19.0,19.0,20.0,20.0,19.0,20.0,15.0,16.0,15.0,15.0,16.0,14.0,21.0,21.0,21.0,21.0,18.0,18.0,19.0,21.0,21.0,21.0,22.0,18.0,18.0,18.0,24.0,24.0,26.0,28.0,26.0,11.0,13.0,15.0,16.0,17.0,15.0,15.0,15.0,16.0,21.0,19.0,21.0,22.0,17.0,33.0,21.0,19.0,22.0,21.0,21.0,21.0,16.0,17.0,35.0,29.0,21.0,19.0,20.0,20.0,21.0,18.0,19.0,21.0,16.0,18.0,17.0],\n\"hwy\":[29.0,29.0,31.0,30.0,26.0,26.0,27.0,26.0,25.0,28.0,27.0,25.0,25.0,25.0,25.0,24.0,25.0,23.0,20.0,15.0,20.0,17.0,17.0,26.0,23.0,26.0,25.0,24.0,19.0,14.0,15.0,17.0,27.0,30.0,26.0,29.0,26.0,24.0,24.0,22.0,22.0,24.0,24.0,17.0,22.0,21.0,23.0,23.0,19.0,18.0,17.0,17.0,19.0,19.0,12.0,17.0,15.0,17.0,17.0,12.0,17.0,16.0,18.0,15.0,16.0,12.0,17.0,17.0,16.0,12.0,15.0,16.0,17.0,15.0,17.0,17.0,18.0,17.0,19.0,17.0,19.0,19.0,17.0,17.0,17.0,16.0,16.0,17.0,15.0,17.0,26.0,25.0,26.0,24.0,21.0,22.0,23.0,22.0,20.0,33.0,32.0,32.0,29.0,32.0,34.0,36.0,36.0,29.0,26.0,27.0,30.0,31.0,26.0,26.0,28.0,26.0,29.0,28.0,27.0,24.0,24.0,24.0,22.0,19.0,20.0,17.0,12.0,19.0,18.0,14.0,15.0,18.0,18.0,15.0,17.0,16.0,18.0,17.0,19.0,19.0,17.0,29.0,27.0,31.0,32.0,27.0,26.0,26.0,25.0,25.0,17.0,17.0,20.0,18.0,26.0,26.0,27.0,28.0,25.0,25.0,24.0,27.0,25.0,26.0,23.0,26.0,26.0,26.0,26.0,25.0,27.0,25.0,27.0,20.0,20.0,19.0,17.0,20.0,17.0,29.0,27.0,31.0,31.0,26.0,26.0,28.0,27.0,29.0,31.0,31.0,26.0,26.0,27.0,30.0,33.0,35.0,37.0,35.0,15.0,18.0,20.0,20.0,22.0,17.0,19.0,18.0,20.0,29.0,26.0,29.0,29.0,24.0,44.0,29.0,26.0,29.0,29.0,29.0,29.0,23.0,24.0,44.0,41.0,29.0,26.0,28.0,29.0,29.0,29.0,28.0,29.0,26.0,26.0,26.0]\n},\n\"kind\":\"plot\",\n\"scales\":[{\n\"aesthetic\":\"x\"\n},{\n\"aesthetic\":\"y\"\n}],\n\"layers\":[{\n\"mapping\":{\n\"x\":\"cty\",\n\"y\":\"hwy\"\n},\n\"stat\":\"identity\",\n\"position\":\"identity\",\n\"geom\":\"point\",\n\"data\":{\n}\n}],\n\"theme\":{\n\"name\":\"minimal\",\n\"axis_ontop\":false,\n\"axis_ontop_y\":false,\n\"axis_ontop_x\":false\n}\n},\n\"height\":400\n},{\n\"x\":0,\n\"width\":600,\n\"y\":900,\n\"feature_spec\":{\n\"ggtitle\":{\n\"text\":\"\\\"minimal2\\\" theme (by default)\"\n},\n\"mapping\":{\n},\n\"data\":{\n\"cty\":[18.0,21.0,20.0,21.0,16.0,18.0,18.0,18.0,16.0,20.0,19.0,15.0,17.0,17.0,15.0,15.0,17.0,16.0,14.0,11.0,14.0,13.0,12.0,16.0,15.0,16.0,15.0,15.0,14.0,11.0,11.0,14.0,19.0,22.0,18.0,18.0,17.0,18.0,17.0,16.0,16.0,17.0,17.0,11.0,15.0,15.0,16.0,16.0,15.0,14.0,13.0,14.0,14.0,14.0,9.0,11.0,11.0,13.0,13.0,9.0,13.0,11.0,13.0,11.0,12.0,9.0,13.0,13.0,12.0,9.0,11.0,11.0,13.0,11.0,11.0,11.0,12.0,14.0,15.0,14.0,13.0,13.0,13.0,14.0,14.0,13.0,13.0,13.0,11.0,13.0,18.0,18.0,17.0,16.0,15.0,15.0,15.0,15.0,14.0,28.0,24.0,25.0,23.0,24.0,26.0,25.0,24.0,21.0,18.0,18.0,21.0,21.0,18.0,18.0,19.0,19.0,19.0,20.0,20.0,17.0,16.0,17.0,17.0,15.0,15.0,14.0,9.0,14.0,13.0,11.0,11.0,12.0,12.0,11.0,11.0,11.0,12.0,14.0,13.0,13.0,13.0,21.0,19.0,23.0,23.0,19.0,19.0,18.0,19.0,19.0,14.0,15.0,14.0,12.0,18.0,16.0,17.0,18.0,16.0,18.0,18.0,20.0,19.0,20.0,18.0,21.0,19.0,19.0,19.0,20.0,20.0,19.0,20.0,15.0,16.0,15.0,15.0,16.0,14.0,21.0,21.0,21.0,21.0,18.0,18.0,19.0,21.0,21.0,21.0,22.0,18.0,18.0,18.0,24.0,24.0,26.0,28.0,26.0,11.0,13.0,15.0,16.0,17.0,15.0,15.0,15.0,16.0,21.0,19.0,21.0,22.0,17.0,33.0,21.0,19.0,22.0,21.0,21.0,21.0,16.0,17.0,35.0,29.0,21.0,19.0,20.0,20.0,21.0,18.0,19.0,21.0,16.0,18.0,17.0],\n\"hwy\":[29.0,29.0,31.0,30.0,26.0,26.0,27.0,26.0,25.0,28.0,27.0,25.0,25.0,25.0,25.0,24.0,25.0,23.0,20.0,15.0,20.0,17.0,17.0,26.0,23.0,26.0,25.0,24.0,19.0,14.0,15.0,17.0,27.0,30.0,26.0,29.0,26.0,24.0,24.0,22.0,22.0,24.0,24.0,17.0,22.0,21.0,23.0,23.0,19.0,18.0,17.0,17.0,19.0,19.0,12.0,17.0,15.0,17.0,17.0,12.0,17.0,16.0,18.0,15.0,16.0,12.0,17.0,17.0,16.0,12.0,15.0,16.0,17.0,15.0,17.0,17.0,18.0,17.0,19.0,17.0,19.0,19.0,17.0,17.0,17.0,16.0,16.0,17.0,15.0,17.0,26.0,25.0,26.0,24.0,21.0,22.0,23.0,22.0,20.0,33.0,32.0,32.0,29.0,32.0,34.0,36.0,36.0,29.0,26.0,27.0,30.0,31.0,26.0,26.0,28.0,26.0,29.0,28.0,27.0,24.0,24.0,24.0,22.0,19.0,20.0,17.0,12.0,19.0,18.0,14.0,15.0,18.0,18.0,15.0,17.0,16.0,18.0,17.0,19.0,19.0,17.0,29.0,27.0,31.0,32.0,27.0,26.0,26.0,25.0,25.0,17.0,17.0,20.0,18.0,26.0,26.0,27.0,28.0,25.0,25.0,24.0,27.0,25.0,26.0,23.0,26.0,26.0,26.0,26.0,25.0,27.0,25.0,27.0,20.0,20.0,19.0,17.0,20.0,17.0,29.0,27.0,31.0,31.0,26.0,26.0,28.0,27.0,29.0,31.0,31.0,26.0,26.0,27.0,30.0,33.0,35.0,37.0,35.0,15.0,18.0,20.0,20.0,22.0,17.0,19.0,18.0,20.0,29.0,26.0,29.0,29.0,24.0,44.0,29.0,26.0,29.0,29.0,29.0,29.0,23.0,24.0,44.0,41.0,29.0,26.0,28.0,29.0,29.0,29.0,28.0,29.0,26.0,26.0,26.0]\n},\n\"kind\":\"plot\",\n\"scales\":[{\n\"aesthetic\":\"x\"\n},{\n\"aesthetic\":\"y\"\n}],\n\"layers\":[{\n\"mapping\":{\n\"x\":\"cty\",\n\"y\":\"hwy\"\n},\n\"stat\":\"identity\",\n\"position\":\"identity\",\n\"geom\":\"point\",\n\"data\":{\n}\n}],\n\"theme\":{\n\"name\":\"minimal2\",\n\"axis_ontop\":false,\n\"axis_ontop_y\":false,\n\"axis_ontop_x\":false\n}\n},\n\"height\":400\n},{\n\"x\":600,\n\"width\":600,\n\"y\":900,\n\"feature_spec\":{\n\"ggtitle\":{\n\"text\":\"\\\"none\\\" theme\"\n},\n\"mapping\":{\n},\n\"data\":{\n\"cty\":[18.0,21.0,20.0,21.0,16.0,18.0,18.0,18.0,16.0,20.0,19.0,15.0,17.0,17.0,15.0,15.0,17.0,16.0,14.0,11.0,14.0,13.0,12.0,16.0,15.0,16.0,15.0,15.0,14.0,11.0,11.0,14.0,19.0,22.0,18.0,18.0,17.0,18.0,17.0,16.0,16.0,17.0,17.0,11.0,15.0,15.0,16.0,16.0,15.0,14.0,13.0,14.0,14.0,14.0,9.0,11.0,11.0,13.0,13.0,9.0,13.0,11.0,13.0,11.0,12.0,9.0,13.0,13.0,12.0,9.0,11.0,11.0,13.0,11.0,11.0,11.0,12.0,14.0,15.0,14.0,13.0,13.0,13.0,14.0,14.0,13.0,13.0,13.0,11.0,13.0,18.0,18.0,17.0,16.0,15.0,15.0,15.0,15.0,14.0,28.0,24.0,25.0,23.0,24.0,26.0,25.0,24.0,21.0,18.0,18.0,21.0,21.0,18.0,18.0,19.0,19.0,19.0,20.0,20.0,17.0,16.0,17.0,17.0,15.0,15.0,14.0,9.0,14.0,13.0,11.0,11.0,12.0,12.0,11.0,11.0,11.0,12.0,14.0,13.0,13.0,13.0,21.0,19.0,23.0,23.0,19.0,19.0,18.0,19.0,19.0,14.0,15.0,14.0,12.0,18.0,16.0,17.0,18.0,16.0,18.0,18.0,20.0,19.0,20.0,18.0,21.0,19.0,19.0,19.0,20.0,20.0,19.0,20.0,15.0,16.0,15.0,15.0,16.0,14.0,21.0,21.0,21.0,21.0,18.0,18.0,19.0,21.0,21.0,21.0,22.0,18.0,18.0,18.0,24.0,24.0,26.0,28.0,26.0,11.0,13.0,15.0,16.0,17.0,15.0,15.0,15.0,16.0,21.0,19.0,21.0,22.0,17.0,33.0,21.0,19.0,22.0,21.0,21.0,21.0,16.0,17.0,35.0,29.0,21.0,19.0,20.0,20.0,21.0,18.0,19.0,21.0,16.0,18.0,17.0],\n\"hwy\":[29.0,29.0,31.0,30.0,26.0,26.0,27.0,26.0,25.0,28.0,27.0,25.0,25.0,25.0,25.0,24.0,25.0,23.0,20.0,15.0,20.0,17.0,17.0,26.0,23.0,26.0,25.0,24.0,19.0,14.0,15.0,17.0,27.0,30.0,26.0,29.0,26.0,24.0,24.0,22.0,22.0,24.0,24.0,17.0,22.0,21.0,23.0,23.0,19.0,18.0,17.0,17.0,19.0,19.0,12.0,17.0,15.0,17.0,17.0,12.0,17.0,16.0,18.0,15.0,16.0,12.0,17.0,17.0,16.0,12.0,15.0,16.0,17.0,15.0,17.0,17.0,18.0,17.0,19.0,17.0,19.0,19.0,17.0,17.0,17.0,16.0,16.0,17.0,15.0,17.0,26.0,25.0,26.0,24.0,21.0,22.0,23.0,22.0,20.0,33.0,32.0,32.0,29.0,32.0,34.0,36.0,36.0,29.0,26.0,27.0,30.0,31.0,26.0,26.0,28.0,26.0,29.0,28.0,27.0,24.0,24.0,24.0,22.0,19.0,20.0,17.0,12.0,19.0,18.0,14.0,15.0,18.0,18.0,15.0,17.0,16.0,18.0,17.0,19.0,19.0,17.0,29.0,27.0,31.0,32.0,27.0,26.0,26.0,25.0,25.0,17.0,17.0,20.0,18.0,26.0,26.0,27.0,28.0,25.0,25.0,24.0,27.0,25.0,26.0,23.0,26.0,26.0,26.0,26.0,25.0,27.0,25.0,27.0,20.0,20.0,19.0,17.0,20.0,17.0,29.0,27.0,31.0,31.0,26.0,26.0,28.0,27.0,29.0,31.0,31.0,26.0,26.0,27.0,30.0,33.0,35.0,37.0,35.0,15.0,18.0,20.0,20.0,22.0,17.0,19.0,18.0,20.0,29.0,26.0,29.0,29.0,24.0,44.0,29.0,26.0,29.0,29.0,29.0,29.0,23.0,24.0,44.0,41.0,29.0,26.0,28.0,29.0,29.0,29.0,28.0,29.0,26.0,26.0,26.0]\n},\n\"kind\":\"plot\",\n\"scales\":[{\n\"aesthetic\":\"x\"\n},{\n\"aesthetic\":\"y\"\n}],\n\"layers\":[{\n\"mapping\":{\n\"x\":\"cty\",\n\"y\":\"hwy\"\n},\n\"stat\":\"identity\",\n\"position\":\"identity\",\n\"geom\":\"point\",\n\"data\":{\n}\n}],\n\"theme\":{\n\"name\":\"none\",\n\"axis_ontop\":false,\n\"axis_ontop_y\":false,\n\"axis_ontop_x\":false\n}\n},\n\"height\":400\n}]\n};\n           var plotContainer = document.getElementById(\"6cElns\");\n           window.letsPlotCall(function() {{\n               LetsPlot.buildPlotFromProcessedSpecs(plotSpec, -1, -1, plotContainer);\n           }});\n       })();    \n   </script>"
     },
     "execution_count": 24,
     "metadata": {},
     "output_type": "execute_result"
    }
   ],
   "source": [
    "plotGrid(listOf(\n",
    "    plotWithTheme(Theme.Classic, \"\\\"classic\\\" theme\"),\n",
    "    plotWithTheme(Theme.Grey, \"\\\"grey\\\" theme\"),\n",
    "    plotWithTheme(Theme.Light, \"\\\"light\\\" theme\"),\n",
    "    plotWithTheme(Theme.Minimal, \"\\\"minimal\\\" theme\"),\n",
    "    plotWithTheme(Theme.Minimal2, \"\\\"minimal2\\\" theme (by default)\"),\n",
    "    plotWithTheme(Theme.None, \"\\\"none\\\" theme\"),\n",
    "), 2, 600, 400)"
   ],
   "metadata": {
    "collapsed": false
   }
  },
  {
   "cell_type": "markdown",
   "source": [
    "## Custom themes"
   ],
   "metadata": {
    "collapsed": false
   }
  },
  {
   "cell_type": "markdown",
   "source": [
    "There is a DSL for creating custom themes. The main part of this DSL is the setting of parameters of type \"line\", \"text\" and \"background\". These parameters can be created separately and then applied, or be set up inplace. Each of them has a `blank` parameter of `Boolean` type. If you set it to true, the item will not be displayed."
   ],
   "metadata": {
    "collapsed": false
   }
  },
  {
   "cell_type": "code",
   "execution_count": 25,
   "outputs": [
    {
     "data": {
      "text/html": "   <div id=\"7Tliaf\"></div>\n   <script type=\"text/javascript\" data-lets-plot-script=\"plot\">\n       (function() {\n           var plotSpec={\n\"mapping\":{\n},\n\"data\":{\n\"cty\":[18.0,21.0,20.0,21.0,16.0,18.0,18.0,18.0,16.0,20.0,19.0,15.0,17.0,17.0,15.0,15.0,17.0,16.0,14.0,11.0,14.0,13.0,12.0,16.0,15.0,16.0,15.0,15.0,14.0,11.0,11.0,14.0,19.0,22.0,18.0,18.0,17.0,18.0,17.0,16.0,16.0,17.0,17.0,11.0,15.0,15.0,16.0,16.0,15.0,14.0,13.0,14.0,14.0,14.0,9.0,11.0,11.0,13.0,13.0,9.0,13.0,11.0,13.0,11.0,12.0,9.0,13.0,13.0,12.0,9.0,11.0,11.0,13.0,11.0,11.0,11.0,12.0,14.0,15.0,14.0,13.0,13.0,13.0,14.0,14.0,13.0,13.0,13.0,11.0,13.0,18.0,18.0,17.0,16.0,15.0,15.0,15.0,15.0,14.0,28.0,24.0,25.0,23.0,24.0,26.0,25.0,24.0,21.0,18.0,18.0,21.0,21.0,18.0,18.0,19.0,19.0,19.0,20.0,20.0,17.0,16.0,17.0,17.0,15.0,15.0,14.0,9.0,14.0,13.0,11.0,11.0,12.0,12.0,11.0,11.0,11.0,12.0,14.0,13.0,13.0,13.0,21.0,19.0,23.0,23.0,19.0,19.0,18.0,19.0,19.0,14.0,15.0,14.0,12.0,18.0,16.0,17.0,18.0,16.0,18.0,18.0,20.0,19.0,20.0,18.0,21.0,19.0,19.0,19.0,20.0,20.0,19.0,20.0,15.0,16.0,15.0,15.0,16.0,14.0,21.0,21.0,21.0,21.0,18.0,18.0,19.0,21.0,21.0,21.0,22.0,18.0,18.0,18.0,24.0,24.0,26.0,28.0,26.0,11.0,13.0,15.0,16.0,17.0,15.0,15.0,15.0,16.0,21.0,19.0,21.0,22.0,17.0,33.0,21.0,19.0,22.0,21.0,21.0,21.0,16.0,17.0,35.0,29.0,21.0,19.0,20.0,20.0,21.0,18.0,19.0,21.0,16.0,18.0,17.0],\n\"hwy\":[29.0,29.0,31.0,30.0,26.0,26.0,27.0,26.0,25.0,28.0,27.0,25.0,25.0,25.0,25.0,24.0,25.0,23.0,20.0,15.0,20.0,17.0,17.0,26.0,23.0,26.0,25.0,24.0,19.0,14.0,15.0,17.0,27.0,30.0,26.0,29.0,26.0,24.0,24.0,22.0,22.0,24.0,24.0,17.0,22.0,21.0,23.0,23.0,19.0,18.0,17.0,17.0,19.0,19.0,12.0,17.0,15.0,17.0,17.0,12.0,17.0,16.0,18.0,15.0,16.0,12.0,17.0,17.0,16.0,12.0,15.0,16.0,17.0,15.0,17.0,17.0,18.0,17.0,19.0,17.0,19.0,19.0,17.0,17.0,17.0,16.0,16.0,17.0,15.0,17.0,26.0,25.0,26.0,24.0,21.0,22.0,23.0,22.0,20.0,33.0,32.0,32.0,29.0,32.0,34.0,36.0,36.0,29.0,26.0,27.0,30.0,31.0,26.0,26.0,28.0,26.0,29.0,28.0,27.0,24.0,24.0,24.0,22.0,19.0,20.0,17.0,12.0,19.0,18.0,14.0,15.0,18.0,18.0,15.0,17.0,16.0,18.0,17.0,19.0,19.0,17.0,29.0,27.0,31.0,32.0,27.0,26.0,26.0,25.0,25.0,17.0,17.0,20.0,18.0,26.0,26.0,27.0,28.0,25.0,25.0,24.0,27.0,25.0,26.0,23.0,26.0,26.0,26.0,26.0,25.0,27.0,25.0,27.0,20.0,20.0,19.0,17.0,20.0,17.0,29.0,27.0,31.0,31.0,26.0,26.0,28.0,27.0,29.0,31.0,31.0,26.0,26.0,27.0,30.0,33.0,35.0,37.0,35.0,15.0,18.0,20.0,20.0,22.0,17.0,19.0,18.0,20.0,29.0,26.0,29.0,29.0,24.0,44.0,29.0,26.0,29.0,29.0,29.0,29.0,23.0,24.0,44.0,41.0,29.0,26.0,28.0,29.0,29.0,29.0,28.0,29.0,26.0,26.0,26.0]\n},\n\"kind\":\"plot\",\n\"scales\":[{\n\"aesthetic\":\"x\"\n},{\n\"aesthetic\":\"y\"\n}],\n\"layers\":[{\n\"mapping\":{\n\"x\":\"cty\",\n\"y\":\"hwy\"\n},\n\"stat\":\"identity\",\n\"position\":\"identity\",\n\"geom\":\"point\",\n\"data\":{\n}\n}],\n\"theme\":{\n\"axis_ontop\":false,\n\"axis_ticks\":{\n\"blank\":true\n},\n\"axis_line_x\":{\n\"color\":\"red\",\n\"blank\":false\n},\n\"axis_ontop_y\":false,\n\"axis_ontop_x\":false,\n\"axis_line_y\":{\n\"color\":\"red\",\n\"size\":0.3,\n\"blank\":false\n}\n}\n};\n           var plotContainer = document.getElementById(\"7Tliaf\");\n           window.letsPlotCall(function() {{\n               LetsPlot.buildPlotFromProcessedSpecs(plotSpec, -1, -1, plotContainer);\n           }});\n       })();    \n   </script>"
     },
     "execution_count": 25,
     "metadata": {},
     "output_type": "execute_result"
    }
   ],
   "source": [
    "val redLine = LayoutParameters.line(Color.RED)\n",
    "\n",
    "val simpleCustomTheme = theme {\n",
    "    // use previously created parameters\n",
    "    xAxis.line(redLine)\n",
    "    // set up parameters\n",
    "    yAxis.line {\n",
    "        color = Color.RED\n",
    "        width = 0.3\n",
    "    }\n",
    "    // remvoe ticks on both axes\n",
    "    axis.ticks {\n",
    "        blank = true\n",
    "    }\n",
    "}\n",
    "\n",
    "plotWithTheme(simpleCustomTheme)"
   ],
   "metadata": {
    "collapsed": false
   }
  },
  {
   "cell_type": "code",
   "execution_count": 26,
   "outputs": [
    {
     "data": {
      "text/html": "   <div id=\"YUaUAp\"></div>\n   <script type=\"text/javascript\" data-lets-plot-script=\"plot\">\n       (function() {\n           var plotSpec={\n\"mapping\":{\n},\n\"data\":{\n\"cty\":[18.0,21.0,20.0,21.0,16.0,18.0,18.0,18.0,16.0,20.0,19.0,15.0,17.0,17.0,15.0,15.0,17.0,16.0,14.0,11.0,14.0,13.0,12.0,16.0,15.0,16.0,15.0,15.0,14.0,11.0,11.0,14.0,19.0,22.0,18.0,18.0,17.0,18.0,17.0,16.0,16.0,17.0,17.0,11.0,15.0,15.0,16.0,16.0,15.0,14.0,13.0,14.0,14.0,14.0,9.0,11.0,11.0,13.0,13.0,9.0,13.0,11.0,13.0,11.0,12.0,9.0,13.0,13.0,12.0,9.0,11.0,11.0,13.0,11.0,11.0,11.0,12.0,14.0,15.0,14.0,13.0,13.0,13.0,14.0,14.0,13.0,13.0,13.0,11.0,13.0,18.0,18.0,17.0,16.0,15.0,15.0,15.0,15.0,14.0,28.0,24.0,25.0,23.0,24.0,26.0,25.0,24.0,21.0,18.0,18.0,21.0,21.0,18.0,18.0,19.0,19.0,19.0,20.0,20.0,17.0,16.0,17.0,17.0,15.0,15.0,14.0,9.0,14.0,13.0,11.0,11.0,12.0,12.0,11.0,11.0,11.0,12.0,14.0,13.0,13.0,13.0,21.0,19.0,23.0,23.0,19.0,19.0,18.0,19.0,19.0,14.0,15.0,14.0,12.0,18.0,16.0,17.0,18.0,16.0,18.0,18.0,20.0,19.0,20.0,18.0,21.0,19.0,19.0,19.0,20.0,20.0,19.0,20.0,15.0,16.0,15.0,15.0,16.0,14.0,21.0,21.0,21.0,21.0,18.0,18.0,19.0,21.0,21.0,21.0,22.0,18.0,18.0,18.0,24.0,24.0,26.0,28.0,26.0,11.0,13.0,15.0,16.0,17.0,15.0,15.0,15.0,16.0,21.0,19.0,21.0,22.0,17.0,33.0,21.0,19.0,22.0,21.0,21.0,21.0,16.0,17.0,35.0,29.0,21.0,19.0,20.0,20.0,21.0,18.0,19.0,21.0,16.0,18.0,17.0],\n\"hwy\":[29.0,29.0,31.0,30.0,26.0,26.0,27.0,26.0,25.0,28.0,27.0,25.0,25.0,25.0,25.0,24.0,25.0,23.0,20.0,15.0,20.0,17.0,17.0,26.0,23.0,26.0,25.0,24.0,19.0,14.0,15.0,17.0,27.0,30.0,26.0,29.0,26.0,24.0,24.0,22.0,22.0,24.0,24.0,17.0,22.0,21.0,23.0,23.0,19.0,18.0,17.0,17.0,19.0,19.0,12.0,17.0,15.0,17.0,17.0,12.0,17.0,16.0,18.0,15.0,16.0,12.0,17.0,17.0,16.0,12.0,15.0,16.0,17.0,15.0,17.0,17.0,18.0,17.0,19.0,17.0,19.0,19.0,17.0,17.0,17.0,16.0,16.0,17.0,15.0,17.0,26.0,25.0,26.0,24.0,21.0,22.0,23.0,22.0,20.0,33.0,32.0,32.0,29.0,32.0,34.0,36.0,36.0,29.0,26.0,27.0,30.0,31.0,26.0,26.0,28.0,26.0,29.0,28.0,27.0,24.0,24.0,24.0,22.0,19.0,20.0,17.0,12.0,19.0,18.0,14.0,15.0,18.0,18.0,15.0,17.0,16.0,18.0,17.0,19.0,19.0,17.0,29.0,27.0,31.0,32.0,27.0,26.0,26.0,25.0,25.0,17.0,17.0,20.0,18.0,26.0,26.0,27.0,28.0,25.0,25.0,24.0,27.0,25.0,26.0,23.0,26.0,26.0,26.0,26.0,25.0,27.0,25.0,27.0,20.0,20.0,19.0,17.0,20.0,17.0,29.0,27.0,31.0,31.0,26.0,26.0,28.0,27.0,29.0,31.0,31.0,26.0,26.0,27.0,30.0,33.0,35.0,37.0,35.0,15.0,18.0,20.0,20.0,22.0,17.0,19.0,18.0,20.0,29.0,26.0,29.0,29.0,24.0,44.0,29.0,26.0,29.0,29.0,29.0,29.0,23.0,24.0,44.0,41.0,29.0,26.0,28.0,29.0,29.0,29.0,28.0,29.0,26.0,26.0,26.0]\n},\n\"kind\":\"plot\",\n\"scales\":[{\n\"aesthetic\":\"x\"\n},{\n\"aesthetic\":\"y\"\n}],\n\"layers\":[{\n\"mapping\":{\n\"x\":\"cty\",\n\"y\":\"hwy\"\n},\n\"stat\":\"identity\",\n\"position\":\"identity\",\n\"geom\":\"point\",\n\"data\":{\n}\n}],\n\"theme\":{\n\"axis\":\"blank\",\n\"axis_ontop\":false,\n\"axis_ontop_y\":false,\n\"axis_ontop_x\":false\n}\n};\n           var plotContainer = document.getElementById(\"YUaUAp\");\n           window.letsPlotCall(function() {{\n               LetsPlot.buildPlotFromProcessedSpecs(plotSpec, -1, -1, plotContainer);\n           }});\n       })();    \n   </script>"
     },
     "execution_count": 26,
     "metadata": {},
     "output_type": "execute_result"
    }
   ],
   "source": [
    "// blanking all details on axes:\n",
    "val blankAxesTheme = theme {\n",
    "    blankAxes()\n",
    "}\n",
    "plotWithTheme(blankAxesTheme)"
   ],
   "metadata": {
    "collapsed": false
   }
  },
  {
   "cell_type": "code",
   "execution_count": 27,
   "outputs": [],
   "source": [
    "\n"
   ],
   "metadata": {
    "collapsed": false
   }
  }
 ],
 "metadata": {
  "datalore": {
   "base_environment": "default",
   "computation_mode": "JUPYTER",
   "package_manager": "pip",
   "packages": [],
   "version": 1
  },
  "kernelspec": {
   "display_name": "Kotlin",
   "language": "kotlin",
   "name": "kotlin"
  },
  "language_info": {
   "codemirror_mode": "text/x-kotlin",
   "file_extension": ".kt",
   "mimetype": "text/x-kotlin",
   "name": "kotlin",
   "nbconvert_exporter": "",
   "pygments_lexer": "kotlin",
   "version": "1.7.21"
  }
 },
 "nbformat": 4,
 "nbformat_minor": 4
}
